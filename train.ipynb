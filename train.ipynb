{
 "cells": [
  {
   "cell_type": "markdown",
   "id": "a350a6b6-4094-4051-b8bf-dfc6dfd0f179",
   "metadata": {},
   "source": [
    "Import libraries"
   ]
  },
  {
   "cell_type": "code",
   "execution_count": 2,
   "id": "37c81020-0acc-4fc0-875f-b2cba4e48fb8",
   "metadata": {
    "tags": []
   },
   "outputs": [],
   "source": [
    "from dataset.dataset import load_data\n",
    "from models import MRnet\n",
    "from config import config\n",
    "import torch\n",
    "from torch.utils.tensorboard import SummaryWriter\n",
    "from utils.utils import _train_model, _evaluate_model, _get_lr\n",
    "import time\n",
    "import torch.utils.data as data\n",
    "import os"
   ]
  },
  {
   "cell_type": "markdown",
   "id": "ae93ba76-e97f-41c5-a805-4b8f48c14782",
   "metadata": {
    "tags": []
   },
   "source": [
    "Method for training a model"
   ]
  },
  {
   "cell_type": "code",
   "execution_count": 1,
   "id": "6d810f7c-83fb-45ff-9fe2-be3758cd99dc",
   "metadata": {
    "tags": []
   },
   "outputs": [],
   "source": [
    "\"\"\"Performs training of a specified model.\n",
    "    \n",
    "Input params:\n",
    "    config_file: Takes in configurations to train with \n",
    "\"\"\"\n",
    "\n",
    "def train(config : dict):\n",
    "    \"\"\"\n",
    "    Function where actual training takes place\n",
    "\n",
    "    Args:\n",
    "        config (dict) : Configuration to train with\n",
    "    \"\"\"\n",
    "    \n",
    "    print('Starting to Train Model...')\n",
    "\n",
    "    train_loader, val_loader, train_wts, val_wts = load_data(config['task'])\n",
    "\n",
    "    print('Initializing Model...')\n",
    "    model = MRnet()\n",
    "    if torch.cuda.is_available():\n",
    "        model = model.cuda()\n",
    "        train_wts = train_wts.cuda()\n",
    "        val_wts = val_wts.cuda()\n",
    "\n",
    "    print('Initializing Loss Method...')\n",
    "    criterion = torch.nn.BCEWithLogitsLoss(pos_weight=train_wts)\n",
    "    val_criterion = torch.nn.BCEWithLogitsLoss(pos_weight=val_wts)\n",
    "\n",
    "    if torch.cuda.is_available():\n",
    "        criterion = criterion.cuda()\n",
    "        val_criterion = val_criterion.cuda()\n",
    "\n",
    "    print('Setup the Optimizer')\n",
    "    optimizer = torch.optim.Adam(model.parameters(), lr=config['lr'], weight_decay=config['weight_decay'])\n",
    "    scheduler = torch.optim.lr_scheduler.ReduceLROnPlateau(\n",
    "            optimizer, patience=3, factor=.3, threshold=1e-4, verbose=True)\n",
    "    \n",
    "    starting_epoch = config['starting_epoch']\n",
    "    num_epochs = config['max_epoch']\n",
    "    patience = config['patience']\n",
    "    log_train = config['log_train']\n",
    "    log_val = config['log_val']\n",
    "\n",
    "    best_val_loss = float('inf')\n",
    "    best_val_auc = float(0)\n",
    "\n",
    "    print('Starting Training')\n",
    "\n",
    "    writer = SummaryWriter(comment='lr={} task={}'.format(config['lr'], config['task']))\n",
    "    t_start_training = time.time()\n",
    "\n",
    "    for epoch in range(starting_epoch, num_epochs):\n",
    "\n",
    "        current_lr = _get_lr(optimizer)\n",
    "        epoch_start_time = time.time()  # timer for entire epoch\n",
    "\n",
    "        print('Started Training')\n",
    "        train_loss, train_auc = _train_model(\n",
    "            model, train_loader, epoch, num_epochs, optimizer, criterion, writer, current_lr, log_every=log_train)\n",
    "\n",
    "        print('train loop ended, now val')\n",
    "        val_loss, val_auc = _evaluate_model(\n",
    "            model, val_loader, val_criterion,  epoch, num_epochs, writer, current_lr, log_val)\n",
    "\n",
    "        writer.add_scalar('Train/Avg Loss', train_loss, epoch)\n",
    "        writer.add_scalar('Val/Avg Loss', val_loss, epoch)\n",
    "\n",
    "        scheduler.step(val_loss)\n",
    "\n",
    "        t_end = time.time()\n",
    "        delta = t_end - epoch_start_time\n",
    "\n",
    "        print(\"train loss : {0} | train auc {1} | val loss {2} | val auc {3} | elapsed time {4} s\".format(\n",
    "            train_loss, train_auc, val_loss, val_auc, delta))\n",
    "\n",
    "        print('-' * 30)\n",
    "\n",
    "        writer.flush()\n",
    "\n",
    "        if val_auc > best_val_auc:\n",
    "            best_val_auc = val_auc\n",
    "\n",
    "        if bool(config['save_model']) and (epoch+1) % 10 == 0:\n",
    "            file_name = 'model_{}_{}_val_auc_{:0.4f}_train_auc_{:0.4f}_epoch_{}.pth'.format(config['exp_name'], config['task'], val_auc, train_auc, epoch+1)\n",
    "            torch.save({\n",
    "                'model_state_dict': model.state_dict()\n",
    "            }, './weights/{}/{}'.format(config['task'],file_name))\n",
    "\n",
    "    t_end_training = time.time()\n",
    "    print(f'training took {t_end_training - t_start_training} s')\n",
    "    writer.flush()\n",
    "    writer.close()"
   ]
  },
  {
   "cell_type": "markdown",
   "id": "79c8eecb-4508-415c-a6b3-a507c23b76ff",
   "metadata": {},
   "source": [
    "Train the model"
   ]
  },
  {
   "cell_type": "code",
   "execution_count": null,
   "id": "19133bc4-876f-4f68-8aa8-83be1e5895d3",
   "metadata": {
    "tags": []
   },
   "outputs": [
    {
     "name": "stdout",
     "output_type": "stream",
     "text": [
      "Training Configuration\n",
      "{'max_epoch': 50, 'log_train': 100, 'lr': 1e-05, 'starting_epoch': 0, 'batch_size': 1, 'log_val': 10, 'task': 'acl', 'weight_decay': 0.01, 'patience': 5, 'save_model': 1, 'exp_name': 'test'}\n",
      "Starting to Train Model...\n",
      "Loading Train Dataset of acl task...\n",
      "Number of -ve samples :  922\n",
      "Number of +ve samples :  208\n",
      "Weights for loss is :  tensor([4.4327])\n",
      "Loading Validation Dataset of acl task...\n",
      "Number of -ve samples :  66\n",
      "Number of +ve samples :  54\n",
      "Weights for loss is :  tensor([1.2222])\n",
      "Initializing Model...\n"
     ]
    },
    {
     "name": "stderr",
     "output_type": "stream",
     "text": [
      "/home/qdy4zt/.local/lib/python3.11/site-packages/torch/utils/data/dataloader.py:624: UserWarning: This DataLoader will create 11 worker processes in total. Our suggested max number of worker in current system is 4, which is smaller than what this DataLoader is going to create. Please be aware that excessive worker creation might get DataLoader running slow or even freeze, lower the worker number to avoid potential slowness/freeze if necessary.\n",
      "  warnings.warn(\n",
      "/home/qdy4zt/.local/lib/python3.11/site-packages/torch/utils/data/dataloader.py:624: UserWarning: This DataLoader will create 11 worker processes in total. Our suggested max number of worker in current system is 4, which is smaller than what this DataLoader is going to create. Please be aware that excessive worker creation might get DataLoader running slow or even freeze, lower the worker number to avoid potential slowness/freeze if necessary.\n",
      "  warnings.warn(\n",
      "/home/qdy4zt/.local/lib/python3.11/site-packages/torchvision/models/_utils.py:208: UserWarning: The parameter 'pretrained' is deprecated since 0.13 and may be removed in the future, please use 'weights' instead.\n",
      "  warnings.warn(\n",
      "/home/qdy4zt/.local/lib/python3.11/site-packages/torchvision/models/_utils.py:223: UserWarning: Arguments other than a weight enum or `None` for 'weights' are deprecated since 0.13 and may be removed in the future. The current behavior is equivalent to passing `weights=AlexNet_Weights.IMAGENET1K_V1`. You can also use `weights=AlexNet_Weights.DEFAULT` to get the most up-to-date weights.\n",
      "  warnings.warn(msg)\n"
     ]
    },
    {
     "name": "stdout",
     "output_type": "stream",
     "text": [
      "Initializing Loss Method...\n",
      "Setup the Optimizer\n",
      "Starting Training\n",
      "Started Training\n"
     ]
    },
    {
     "name": "stderr",
     "output_type": "stream",
     "text": [
      "/home/qdy4zt/.local/lib/python3.11/site-packages/torch/optim/lr_scheduler.py:62: UserWarning: The verbose parameter is deprecated. Please use get_last_lr() to access the learning rate.\n",
      "  warnings.warn(\n"
     ]
    },
    {
     "name": "stdout",
     "output_type": "stream",
     "text": [
      "[Epoch: 1 / 50 | Batch : 100 / 1130 ]| Avg Train Loss 1.2117 | Train AUC : 0.4137 | lr : 1e-05\n",
      "[Epoch: 1 / 50 | Batch : 200 / 1130 ]| Avg Train Loss 1.2239 | Train AUC : 0.4217 | lr : 1e-05\n",
      "[Epoch: 1 / 50 | Batch : 300 / 1130 ]| Avg Train Loss 1.1964 | Train AUC : 0.46 | lr : 1e-05\n",
      "[Epoch: 1 / 50 | Batch : 400 / 1130 ]| Avg Train Loss 1.1516 | Train AUC : 0.4876 | lr : 1e-05\n",
      "[Epoch: 1 / 50 | Batch : 500 / 1130 ]| Avg Train Loss 1.1524 | Train AUC : 0.5156 | lr : 1e-05\n",
      "[Epoch: 1 / 50 | Batch : 600 / 1130 ]| Avg Train Loss 1.133 | Train AUC : 0.5281 | lr : 1e-05\n",
      "[Epoch: 1 / 50 | Batch : 700 / 1130 ]| Avg Train Loss 1.1355 | Train AUC : 0.552 | lr : 1e-05\n",
      "[Epoch: 1 / 50 | Batch : 800 / 1130 ]| Avg Train Loss 1.123 | Train AUC : 0.5605 | lr : 1e-05\n",
      "[Epoch: 1 / 50 | Batch : 900 / 1130 ]| Avg Train Loss 1.1194 | Train AUC : 0.576 | lr : 1e-05\n",
      "[Epoch: 1 / 50 | Batch : 1000 / 1130 ]| Avg Train Loss 1.1146 | Train AUC : 0.5861 | lr : 1e-05\n",
      "[Epoch: 1 / 50 | Batch : 1100 / 1130 ]| Avg Train Loss 1.1089 | Train AUC : 0.6026 | lr : 1e-05\n",
      "train loop ended, now val\n"
     ]
    },
    {
     "name": "stderr",
     "output_type": "stream",
     "text": [
      "/home/qdy4zt/.local/lib/python3.11/site-packages/torch/utils/data/dataloader.py:624: UserWarning: This DataLoader will create 11 worker processes in total. Our suggested max number of worker in current system is 4, which is smaller than what this DataLoader is going to create. Please be aware that excessive worker creation might get DataLoader running slow or even freeze, lower the worker number to avoid potential slowness/freeze if necessary.\n",
      "  warnings.warn(\n"
     ]
    },
    {
     "name": "stdout",
     "output_type": "stream",
     "text": [
      "[Epoch: 1 / 50 | Batch : 10 / 120 ]| Avg Val Loss 0.6089 | Val AUC : 0.5 | lr : 1e-05\n",
      "[Epoch: 1 / 50 | Batch : 20 / 120 ]| Avg Val Loss 0.5281 | Val AUC : 0.5 | lr : 1e-05\n",
      "[Epoch: 1 / 50 | Batch : 30 / 120 ]| Avg Val Loss 0.5143 | Val AUC : 0.5 | lr : 1e-05\n",
      "[Epoch: 1 / 50 | Batch : 40 / 120 ]| Avg Val Loss 0.5513 | Val AUC : 0.5 | lr : 1e-05\n",
      "[Epoch: 1 / 50 | Batch : 50 / 120 ]| Avg Val Loss 0.5519 | Val AUC : 0.8953 | lr : 1e-05\n",
      "[Epoch: 1 / 50 | Batch : 60 / 120 ]| Avg Val Loss 0.5584 | Val AUC : 0.861 | lr : 1e-05\n",
      "[Epoch: 1 / 50 | Batch : 70 / 120 ]| Avg Val Loss 0.5434 | Val AUC : 0.8923 | lr : 1e-05\n",
      "[Epoch: 1 / 50 | Batch : 80 / 120 ]| Avg Val Loss 0.5209 | Val AUC : 0.9122 | lr : 1e-05\n",
      "[Epoch: 1 / 50 | Batch : 90 / 120 ]| Avg Val Loss 0.5404 | Val AUC : 0.8841 | lr : 1e-05\n",
      "[Epoch: 1 / 50 | Batch : 100 / 120 ]| Avg Val Loss 0.5526 | Val AUC : 0.8765 | lr : 1e-05\n",
      "[Epoch: 1 / 50 | Batch : 110 / 120 ]| Avg Val Loss 0.563 | Val AUC : 0.8696 | lr : 1e-05\n",
      "train loss : 1.1108 | train auc 0.6022 | val loss 0.5826 | val auc 0.8451 | elapsed time 210.92040181159973 s\n",
      "------------------------------\n",
      "Started Training\n"
     ]
    },
    {
     "name": "stderr",
     "output_type": "stream",
     "text": [
      "/home/qdy4zt/.local/lib/python3.11/site-packages/torch/utils/data/dataloader.py:624: UserWarning: This DataLoader will create 11 worker processes in total. Our suggested max number of worker in current system is 4, which is smaller than what this DataLoader is going to create. Please be aware that excessive worker creation might get DataLoader running slow or even freeze, lower the worker number to avoid potential slowness/freeze if necessary.\n",
      "  warnings.warn(\n"
     ]
    },
    {
     "name": "stdout",
     "output_type": "stream",
     "text": [
      "[Epoch: 2 / 50 | Batch : 100 / 1130 ]| Avg Train Loss 0.9681 | Train AUC : 0.7339 | lr : 1e-05\n",
      "[Epoch: 2 / 50 | Batch : 200 / 1130 ]| Avg Train Loss 0.9813 | Train AUC : 0.6431 | lr : 1e-05\n",
      "[Epoch: 2 / 50 | Batch : 300 / 1130 ]| Avg Train Loss 0.9343 | Train AUC : 0.6878 | lr : 1e-05\n",
      "[Epoch: 2 / 50 | Batch : 400 / 1130 ]| Avg Train Loss 0.979 | Train AUC : 0.6803 | lr : 1e-05\n",
      "[Epoch: 2 / 50 | Batch : 500 / 1130 ]| Avg Train Loss 0.9718 | Train AUC : 0.7187 | lr : 1e-05\n",
      "[Epoch: 2 / 50 | Batch : 600 / 1130 ]| Avg Train Loss 0.967 | Train AUC : 0.7355 | lr : 1e-05\n",
      "[Epoch: 2 / 50 | Batch : 700 / 1130 ]| Avg Train Loss 0.9723 | Train AUC : 0.736 | lr : 1e-05\n",
      "[Epoch: 2 / 50 | Batch : 800 / 1130 ]| Avg Train Loss 0.9685 | Train AUC : 0.7545 | lr : 1e-05\n",
      "[Epoch: 2 / 50 | Batch : 900 / 1130 ]| Avg Train Loss 0.9694 | Train AUC : 0.7539 | lr : 1e-05\n",
      "[Epoch: 2 / 50 | Batch : 1000 / 1130 ]| Avg Train Loss 0.9594 | Train AUC : 0.7621 | lr : 1e-05\n",
      "[Epoch: 2 / 50 | Batch : 1100 / 1130 ]| Avg Train Loss 0.9435 | Train AUC : 0.7698 | lr : 1e-05\n",
      "train loop ended, now val\n"
     ]
    },
    {
     "name": "stderr",
     "output_type": "stream",
     "text": [
      "/home/qdy4zt/.local/lib/python3.11/site-packages/torch/utils/data/dataloader.py:624: UserWarning: This DataLoader will create 11 worker processes in total. Our suggested max number of worker in current system is 4, which is smaller than what this DataLoader is going to create. Please be aware that excessive worker creation might get DataLoader running slow or even freeze, lower the worker number to avoid potential slowness/freeze if necessary.\n",
      "  warnings.warn(\n"
     ]
    },
    {
     "name": "stdout",
     "output_type": "stream",
     "text": [
      "[Epoch: 2 / 50 | Batch : 10 / 120 ]| Avg Val Loss 0.3888 | Val AUC : 0.5 | lr : 1e-05\n",
      "[Epoch: 2 / 50 | Batch : 20 / 120 ]| Avg Val Loss 0.3052 | Val AUC : 0.5 | lr : 1e-05\n",
      "[Epoch: 2 / 50 | Batch : 30 / 120 ]| Avg Val Loss 0.2903 | Val AUC : 0.5 | lr : 1e-05\n",
      "[Epoch: 2 / 50 | Batch : 40 / 120 ]| Avg Val Loss 0.3485 | Val AUC : 0.5 | lr : 1e-05\n",
      "[Epoch: 2 / 50 | Batch : 50 / 120 ]| Avg Val Loss 0.3973 | Val AUC : 0.9186 | lr : 1e-05\n",
      "[Epoch: 2 / 50 | Batch : 60 / 120 ]| Avg Val Loss 0.4458 | Val AUC : 0.8717 | lr : 1e-05\n",
      "[Epoch: 2 / 50 | Batch : 70 / 120 ]| Avg Val Loss 0.4578 | Val AUC : 0.8973 | lr : 1e-05\n",
      "[Epoch: 2 / 50 | Batch : 80 / 120 ]| Avg Val Loss 0.4381 | Val AUC : 0.9165 | lr : 1e-05\n",
      "[Epoch: 2 / 50 | Batch : 90 / 120 ]| Avg Val Loss 0.4817 | Val AUC : 0.8961 | lr : 1e-05\n",
      "[Epoch: 2 / 50 | Batch : 100 / 120 ]| Avg Val Loss 0.4877 | Val AUC : 0.8886 | lr : 1e-05\n",
      "[Epoch: 2 / 50 | Batch : 110 / 120 ]| Avg Val Loss 0.4898 | Val AUC : 0.8837 | lr : 1e-05\n",
      "train loss : 0.9438 | train auc 0.7696 | val loss 0.5129 | val auc 0.8681 | elapsed time 209.8090159893036 s\n",
      "------------------------------\n",
      "Started Training\n"
     ]
    },
    {
     "name": "stderr",
     "output_type": "stream",
     "text": [
      "/home/qdy4zt/.local/lib/python3.11/site-packages/torch/utils/data/dataloader.py:624: UserWarning: This DataLoader will create 11 worker processes in total. Our suggested max number of worker in current system is 4, which is smaller than what this DataLoader is going to create. Please be aware that excessive worker creation might get DataLoader running slow or even freeze, lower the worker number to avoid potential slowness/freeze if necessary.\n",
      "  warnings.warn(\n"
     ]
    },
    {
     "name": "stdout",
     "output_type": "stream",
     "text": [
      "[Epoch: 3 / 50 | Batch : 100 / 1130 ]| Avg Train Loss 0.8851 | Train AUC : 0.7434 | lr : 1e-05\n",
      "[Epoch: 3 / 50 | Batch : 200 / 1130 ]| Avg Train Loss 1.0095 | Train AUC : 0.7271 | lr : 1e-05\n",
      "[Epoch: 3 / 50 | Batch : 300 / 1130 ]| Avg Train Loss 0.9706 | Train AUC : 0.747 | lr : 1e-05\n",
      "[Epoch: 3 / 50 | Batch : 400 / 1130 ]| Avg Train Loss 0.9307 | Train AUC : 0.7663 | lr : 1e-05\n",
      "[Epoch: 3 / 50 | Batch : 500 / 1130 ]| Avg Train Loss 0.9245 | Train AUC : 0.7836 | lr : 1e-05\n",
      "[Epoch: 3 / 50 | Batch : 600 / 1130 ]| Avg Train Loss 0.9119 | Train AUC : 0.784 | lr : 1e-05\n",
      "[Epoch: 3 / 50 | Batch : 700 / 1130 ]| Avg Train Loss 0.912 | Train AUC : 0.7775 | lr : 1e-05\n",
      "[Epoch: 3 / 50 | Batch : 800 / 1130 ]| Avg Train Loss 0.9098 | Train AUC : 0.7891 | lr : 1e-05\n",
      "[Epoch: 3 / 50 | Batch : 900 / 1130 ]| Avg Train Loss 0.9097 | Train AUC : 0.79 | lr : 1e-05\n",
      "[Epoch: 3 / 50 | Batch : 1000 / 1130 ]| Avg Train Loss 0.9025 | Train AUC : 0.7844 | lr : 1e-05\n",
      "[Epoch: 3 / 50 | Batch : 1100 / 1130 ]| Avg Train Loss 0.8976 | Train AUC : 0.7916 | lr : 1e-05\n",
      "train loop ended, now val\n"
     ]
    },
    {
     "name": "stderr",
     "output_type": "stream",
     "text": [
      "/home/qdy4zt/.local/lib/python3.11/site-packages/torch/utils/data/dataloader.py:624: UserWarning: This DataLoader will create 11 worker processes in total. Our suggested max number of worker in current system is 4, which is smaller than what this DataLoader is going to create. Please be aware that excessive worker creation might get DataLoader running slow or even freeze, lower the worker number to avoid potential slowness/freeze if necessary.\n",
      "  warnings.warn(\n"
     ]
    },
    {
     "name": "stdout",
     "output_type": "stream",
     "text": [
      "[Epoch: 3 / 50 | Batch : 10 / 120 ]| Avg Val Loss 0.3926 | Val AUC : 0.5 | lr : 1e-05\n",
      "[Epoch: 3 / 50 | Batch : 20 / 120 ]| Avg Val Loss 0.2942 | Val AUC : 0.5 | lr : 1e-05\n",
      "[Epoch: 3 / 50 | Batch : 30 / 120 ]| Avg Val Loss 0.2747 | Val AUC : 0.5 | lr : 1e-05\n",
      "[Epoch: 3 / 50 | Batch : 40 / 120 ]| Avg Val Loss 0.3279 | Val AUC : 0.5 | lr : 1e-05\n",
      "[Epoch: 3 / 50 | Batch : 50 / 120 ]| Avg Val Loss 0.3759 | Val AUC : 0.9215 | lr : 1e-05\n",
      "[Epoch: 3 / 50 | Batch : 60 / 120 ]| Avg Val Loss 0.4366 | Val AUC : 0.8676 | lr : 1e-05\n",
      "[Epoch: 3 / 50 | Batch : 70 / 120 ]| Avg Val Loss 0.4537 | Val AUC : 0.8939 | lr : 1e-05\n",
      "[Epoch: 3 / 50 | Batch : 80 / 120 ]| Avg Val Loss 0.4288 | Val AUC : 0.9171 | lr : 1e-05\n",
      "[Epoch: 3 / 50 | Batch : 90 / 120 ]| Avg Val Loss 0.4619 | Val AUC : 0.9048 | lr : 1e-05\n",
      "[Epoch: 3 / 50 | Batch : 100 / 120 ]| Avg Val Loss 0.4621 | Val AUC : 0.902 | lr : 1e-05\n",
      "[Epoch: 3 / 50 | Batch : 110 / 120 ]| Avg Val Loss 0.4606 | Val AUC : 0.9 | lr : 1e-05\n",
      "train loss : 0.8937 | train auc 0.7962 | val loss 0.4763 | val auc 0.892 | elapsed time 211.60186123847961 s\n",
      "------------------------------\n",
      "Started Training\n"
     ]
    },
    {
     "name": "stderr",
     "output_type": "stream",
     "text": [
      "/home/qdy4zt/.local/lib/python3.11/site-packages/torch/utils/data/dataloader.py:624: UserWarning: This DataLoader will create 11 worker processes in total. Our suggested max number of worker in current system is 4, which is smaller than what this DataLoader is going to create. Please be aware that excessive worker creation might get DataLoader running slow or even freeze, lower the worker number to avoid potential slowness/freeze if necessary.\n",
      "  warnings.warn(\n"
     ]
    },
    {
     "name": "stdout",
     "output_type": "stream",
     "text": [
      "[Epoch: 4 / 50 | Batch : 100 / 1130 ]| Avg Train Loss 0.5988 | Train AUC : 0.7755 | lr : 1e-05\n",
      "[Epoch: 4 / 50 | Batch : 200 / 1130 ]| Avg Train Loss 0.6901 | Train AUC : 0.8232 | lr : 1e-05\n",
      "[Epoch: 4 / 50 | Batch : 300 / 1130 ]| Avg Train Loss 0.7003 | Train AUC : 0.8404 | lr : 1e-05\n",
      "[Epoch: 4 / 50 | Batch : 400 / 1130 ]| Avg Train Loss 0.7701 | Train AUC : 0.8156 | lr : 1e-05\n",
      "[Epoch: 4 / 50 | Batch : 500 / 1130 ]| Avg Train Loss 0.7692 | Train AUC : 0.8286 | lr : 1e-05\n",
      "[Epoch: 4 / 50 | Batch : 600 / 1130 ]| Avg Train Loss 0.7881 | Train AUC : 0.8319 | lr : 1e-05\n",
      "[Epoch: 4 / 50 | Batch : 700 / 1130 ]| Avg Train Loss 0.7802 | Train AUC : 0.8354 | lr : 1e-05\n",
      "[Epoch: 4 / 50 | Batch : 800 / 1130 ]| Avg Train Loss 0.8059 | Train AUC : 0.831 | lr : 1e-05\n",
      "[Epoch: 4 / 50 | Batch : 900 / 1130 ]| Avg Train Loss 0.8228 | Train AUC : 0.8337 | lr : 1e-05\n",
      "[Epoch: 4 / 50 | Batch : 1000 / 1130 ]| Avg Train Loss 0.8217 | Train AUC : 0.839 | lr : 1e-05\n",
      "[Epoch: 4 / 50 | Batch : 1100 / 1130 ]| Avg Train Loss 0.8184 | Train AUC : 0.8398 | lr : 1e-05\n",
      "train loop ended, now val\n"
     ]
    },
    {
     "name": "stderr",
     "output_type": "stream",
     "text": [
      "/home/qdy4zt/.local/lib/python3.11/site-packages/torch/utils/data/dataloader.py:624: UserWarning: This DataLoader will create 11 worker processes in total. Our suggested max number of worker in current system is 4, which is smaller than what this DataLoader is going to create. Please be aware that excessive worker creation might get DataLoader running slow or even freeze, lower the worker number to avoid potential slowness/freeze if necessary.\n",
      "  warnings.warn(\n"
     ]
    },
    {
     "name": "stdout",
     "output_type": "stream",
     "text": [
      "[Epoch: 4 / 50 | Batch : 10 / 120 ]| Avg Val Loss 0.1999 | Val AUC : 0.5 | lr : 1e-05\n",
      "[Epoch: 4 / 50 | Batch : 20 / 120 ]| Avg Val Loss 0.1348 | Val AUC : 0.5 | lr : 1e-05\n",
      "[Epoch: 4 / 50 | Batch : 30 / 120 ]| Avg Val Loss 0.1153 | Val AUC : 0.5 | lr : 1e-05\n",
      "[Epoch: 4 / 50 | Batch : 40 / 120 ]| Avg Val Loss 0.1351 | Val AUC : 0.5 | lr : 1e-05\n",
      "[Epoch: 4 / 50 | Batch : 50 / 120 ]| Avg Val Loss 0.2892 | Val AUC : 0.9302 | lr : 1e-05\n",
      "[Epoch: 4 / 50 | Batch : 60 / 120 ]| Avg Val Loss 0.4297 | Val AUC : 0.8797 | lr : 1e-05\n",
      "[Epoch: 4 / 50 | Batch : 70 / 120 ]| Avg Val Loss 0.5117 | Val AUC : 0.904 | lr : 1e-05\n",
      "[Epoch: 4 / 50 | Batch : 80 / 120 ]| Avg Val Loss 0.515 | Val AUC : 0.9238 | lr : 1e-05\n",
      "[Epoch: 4 / 50 | Batch : 90 / 120 ]| Avg Val Loss 0.6048 | Val AUC : 0.9092 | lr : 1e-05\n",
      "[Epoch: 4 / 50 | Batch : 100 / 120 ]| Avg Val Loss 0.5808 | Val AUC : 0.9102 | lr : 1e-05\n",
      "[Epoch: 4 / 50 | Batch : 110 / 120 ]| Avg Val Loss 0.5559 | Val AUC : 0.9114 | lr : 1e-05\n",
      "train loss : 0.8053 | train auc 0.8449 | val loss 0.5738 | val auc 0.9052 | elapsed time 211.38338947296143 s\n",
      "------------------------------\n",
      "Started Training\n"
     ]
    },
    {
     "name": "stderr",
     "output_type": "stream",
     "text": [
      "/home/qdy4zt/.local/lib/python3.11/site-packages/torch/utils/data/dataloader.py:624: UserWarning: This DataLoader will create 11 worker processes in total. Our suggested max number of worker in current system is 4, which is smaller than what this DataLoader is going to create. Please be aware that excessive worker creation might get DataLoader running slow or even freeze, lower the worker number to avoid potential slowness/freeze if necessary.\n",
      "  warnings.warn(\n"
     ]
    },
    {
     "name": "stdout",
     "output_type": "stream",
     "text": [
      "[Epoch: 5 / 50 | Batch : 100 / 1130 ]| Avg Train Loss 0.7795 | Train AUC : 0.8543 | lr : 1e-05\n",
      "[Epoch: 5 / 50 | Batch : 200 / 1130 ]| Avg Train Loss 0.8356 | Train AUC : 0.8045 | lr : 1e-05\n",
      "[Epoch: 5 / 50 | Batch : 300 / 1130 ]| Avg Train Loss 0.7816 | Train AUC : 0.8418 | lr : 1e-05\n",
      "[Epoch: 5 / 50 | Batch : 400 / 1130 ]| Avg Train Loss 0.7363 | Train AUC : 0.8627 | lr : 1e-05\n",
      "[Epoch: 5 / 50 | Batch : 500 / 1130 ]| Avg Train Loss 0.7136 | Train AUC : 0.8861 | lr : 1e-05\n",
      "[Epoch: 5 / 50 | Batch : 600 / 1130 ]| Avg Train Loss 0.7398 | Train AUC : 0.8736 | lr : 1e-05\n",
      "[Epoch: 5 / 50 | Batch : 700 / 1130 ]| Avg Train Loss 0.7295 | Train AUC : 0.8709 | lr : 1e-05\n",
      "[Epoch: 5 / 50 | Batch : 800 / 1130 ]| Avg Train Loss 0.7286 | Train AUC : 0.8743 | lr : 1e-05\n",
      "[Epoch: 5 / 50 | Batch : 900 / 1130 ]| Avg Train Loss 0.7283 | Train AUC : 0.8688 | lr : 1e-05\n",
      "[Epoch: 5 / 50 | Batch : 1000 / 1130 ]| Avg Train Loss 0.7337 | Train AUC : 0.8707 | lr : 1e-05\n",
      "[Epoch: 5 / 50 | Batch : 1100 / 1130 ]| Avg Train Loss 0.759 | Train AUC : 0.8625 | lr : 1e-05\n",
      "train loop ended, now val\n"
     ]
    },
    {
     "name": "stderr",
     "output_type": "stream",
     "text": [
      "/home/qdy4zt/.local/lib/python3.11/site-packages/torch/utils/data/dataloader.py:624: UserWarning: This DataLoader will create 11 worker processes in total. Our suggested max number of worker in current system is 4, which is smaller than what this DataLoader is going to create. Please be aware that excessive worker creation might get DataLoader running slow or even freeze, lower the worker number to avoid potential slowness/freeze if necessary.\n",
      "  warnings.warn(\n"
     ]
    },
    {
     "name": "stdout",
     "output_type": "stream",
     "text": [
      "[Epoch: 5 / 50 | Batch : 10 / 120 ]| Avg Val Loss 0.3792 | Val AUC : 0.5 | lr : 1e-05\n",
      "[Epoch: 5 / 50 | Batch : 20 / 120 ]| Avg Val Loss 0.2835 | Val AUC : 0.5 | lr : 1e-05\n",
      "[Epoch: 5 / 50 | Batch : 30 / 120 ]| Avg Val Loss 0.268 | Val AUC : 0.5 | lr : 1e-05\n",
      "[Epoch: 5 / 50 | Batch : 40 / 120 ]| Avg Val Loss 0.3194 | Val AUC : 0.5 | lr : 1e-05\n",
      "[Epoch: 5 / 50 | Batch : 50 / 120 ]| Avg Val Loss 0.3516 | Val AUC : 0.9535 | lr : 1e-05\n",
      "[Epoch: 5 / 50 | Batch : 60 / 120 ]| Avg Val Loss 0.3934 | Val AUC : 0.9198 | lr : 1e-05\n",
      "[Epoch: 5 / 50 | Batch : 70 / 120 ]| Avg Val Loss 0.4013 | Val AUC : 0.9343 | lr : 1e-05\n",
      "[Epoch: 5 / 50 | Batch : 80 / 120 ]| Avg Val Loss 0.3778 | Val AUC : 0.9478 | lr : 1e-05\n",
      "[Epoch: 5 / 50 | Batch : 90 / 120 ]| Avg Val Loss 0.406 | Val AUC : 0.9411 | lr : 1e-05\n",
      "[Epoch: 5 / 50 | Batch : 100 / 120 ]| Avg Val Loss 0.4116 | Val AUC : 0.9365 | lr : 1e-05\n",
      "[Epoch: 5 / 50 | Batch : 110 / 120 ]| Avg Val Loss 0.4102 | Val AUC : 0.9356 | lr : 1e-05\n",
      "train loss : 0.7589 | train auc 0.8625 | val loss 0.4137 | val auc 0.9357 | elapsed time 211.90636348724365 s\n",
      "------------------------------\n",
      "Started Training\n"
     ]
    },
    {
     "name": "stderr",
     "output_type": "stream",
     "text": [
      "/home/qdy4zt/.local/lib/python3.11/site-packages/torch/utils/data/dataloader.py:624: UserWarning: This DataLoader will create 11 worker processes in total. Our suggested max number of worker in current system is 4, which is smaller than what this DataLoader is going to create. Please be aware that excessive worker creation might get DataLoader running slow or even freeze, lower the worker number to avoid potential slowness/freeze if necessary.\n",
      "  warnings.warn(\n"
     ]
    },
    {
     "name": "stdout",
     "output_type": "stream",
     "text": [
      "[Epoch: 6 / 50 | Batch : 100 / 1130 ]| Avg Train Loss 0.6266 | Train AUC : 0.923 | lr : 1e-05\n",
      "[Epoch: 6 / 50 | Batch : 200 / 1130 ]| Avg Train Loss 0.6865 | Train AUC : 0.8869 | lr : 1e-05\n",
      "[Epoch: 6 / 50 | Batch : 300 / 1130 ]| Avg Train Loss 0.7021 | Train AUC : 0.8854 | lr : 1e-05\n",
      "[Epoch: 6 / 50 | Batch : 400 / 1130 ]| Avg Train Loss 0.7296 | Train AUC : 0.8755 | lr : 1e-05\n",
      "[Epoch: 6 / 50 | Batch : 500 / 1130 ]| Avg Train Loss 0.7323 | Train AUC : 0.8745 | lr : 1e-05\n",
      "[Epoch: 6 / 50 | Batch : 600 / 1130 ]| Avg Train Loss 0.7047 | Train AUC : 0.885 | lr : 1e-05\n",
      "[Epoch: 6 / 50 | Batch : 700 / 1130 ]| Avg Train Loss 0.7064 | Train AUC : 0.8874 | lr : 1e-05\n",
      "[Epoch: 6 / 50 | Batch : 800 / 1130 ]| Avg Train Loss 0.7081 | Train AUC : 0.8858 | lr : 1e-05\n",
      "[Epoch: 6 / 50 | Batch : 900 / 1130 ]| Avg Train Loss 0.6891 | Train AUC : 0.8911 | lr : 1e-05\n",
      "[Epoch: 6 / 50 | Batch : 1000 / 1130 ]| Avg Train Loss 0.6812 | Train AUC : 0.8951 | lr : 1e-05\n",
      "[Epoch: 6 / 50 | Batch : 1100 / 1130 ]| Avg Train Loss 0.6931 | Train AUC : 0.8905 | lr : 1e-05\n",
      "train loop ended, now val\n"
     ]
    },
    {
     "name": "stderr",
     "output_type": "stream",
     "text": [
      "/home/qdy4zt/.local/lib/python3.11/site-packages/torch/utils/data/dataloader.py:624: UserWarning: This DataLoader will create 11 worker processes in total. Our suggested max number of worker in current system is 4, which is smaller than what this DataLoader is going to create. Please be aware that excessive worker creation might get DataLoader running slow or even freeze, lower the worker number to avoid potential slowness/freeze if necessary.\n",
      "  warnings.warn(\n"
     ]
    },
    {
     "name": "stdout",
     "output_type": "stream",
     "text": [
      "[Epoch: 6 / 50 | Batch : 10 / 120 ]| Avg Val Loss 0.449 | Val AUC : 0.5 | lr : 1e-05\n",
      "[Epoch: 6 / 50 | Batch : 20 / 120 ]| Avg Val Loss 0.3202 | Val AUC : 0.5 | lr : 1e-05\n",
      "[Epoch: 6 / 50 | Batch : 30 / 120 ]| Avg Val Loss 0.2879 | Val AUC : 0.5 | lr : 1e-05\n",
      "[Epoch: 6 / 50 | Batch : 40 / 120 ]| Avg Val Loss 0.3505 | Val AUC : 0.5 | lr : 1e-05\n",
      "[Epoch: 6 / 50 | Batch : 50 / 120 ]| Avg Val Loss 0.3429 | Val AUC : 0.9651 | lr : 1e-05\n",
      "[Epoch: 6 / 50 | Batch : 60 / 120 ]| Avg Val Loss 0.3754 | Val AUC : 0.9332 | lr : 1e-05\n",
      "[Epoch: 6 / 50 | Batch : 70 / 120 ]| Avg Val Loss 0.3604 | Val AUC : 0.9436 | lr : 1e-05\n",
      "[Epoch: 6 / 50 | Batch : 80 / 120 ]| Avg Val Loss 0.332 | Val AUC : 0.9539 | lr : 1e-05\n",
      "[Epoch: 6 / 50 | Batch : 90 / 120 ]| Avg Val Loss 0.3552 | Val AUC : 0.9444 | lr : 1e-05\n",
      "[Epoch: 6 / 50 | Batch : 100 / 120 ]| Avg Val Loss 0.3642 | Val AUC : 0.9404 | lr : 1e-05\n",
      "[Epoch: 6 / 50 | Batch : 110 / 120 ]| Avg Val Loss 0.3665 | Val AUC : 0.9405 | lr : 1e-05\n",
      "train loss : 0.7046 | train auc 0.8864 | val loss 0.3714 | val auc 0.9402 | elapsed time 211.19100069999695 s\n",
      "------------------------------\n",
      "Started Training\n"
     ]
    },
    {
     "name": "stderr",
     "output_type": "stream",
     "text": [
      "/home/qdy4zt/.local/lib/python3.11/site-packages/torch/utils/data/dataloader.py:624: UserWarning: This DataLoader will create 11 worker processes in total. Our suggested max number of worker in current system is 4, which is smaller than what this DataLoader is going to create. Please be aware that excessive worker creation might get DataLoader running slow or even freeze, lower the worker number to avoid potential slowness/freeze if necessary.\n",
      "  warnings.warn(\n"
     ]
    },
    {
     "name": "stdout",
     "output_type": "stream",
     "text": [
      "[Epoch: 7 / 50 | Batch : 100 / 1130 ]| Avg Train Loss 0.5908 | Train AUC : 0.8992 | lr : 1e-05\n",
      "[Epoch: 7 / 50 | Batch : 200 / 1130 ]| Avg Train Loss 0.5372 | Train AUC : 0.9536 | lr : 1e-05\n",
      "[Epoch: 7 / 50 | Batch : 300 / 1130 ]| Avg Train Loss 0.5178 | Train AUC : 0.9529 | lr : 1e-05\n",
      "[Epoch: 7 / 50 | Batch : 400 / 1130 ]| Avg Train Loss 0.6193 | Train AUC : 0.9145 | lr : 1e-05\n",
      "[Epoch: 7 / 50 | Batch : 500 / 1130 ]| Avg Train Loss 0.6318 | Train AUC : 0.9133 | lr : 1e-05\n",
      "[Epoch: 7 / 50 | Batch : 600 / 1130 ]| Avg Train Loss 0.6537 | Train AUC : 0.9049 | lr : 1e-05\n",
      "[Epoch: 7 / 50 | Batch : 700 / 1130 ]| Avg Train Loss 0.6468 | Train AUC : 0.9029 | lr : 1e-05\n",
      "[Epoch: 7 / 50 | Batch : 800 / 1130 ]| Avg Train Loss 0.6501 | Train AUC : 0.9046 | lr : 1e-05\n",
      "[Epoch: 7 / 50 | Batch : 900 / 1130 ]| Avg Train Loss 0.635 | Train AUC : 0.9107 | lr : 1e-05\n",
      "[Epoch: 7 / 50 | Batch : 1000 / 1130 ]| Avg Train Loss 0.6383 | Train AUC : 0.9095 | lr : 1e-05\n",
      "[Epoch: 7 / 50 | Batch : 1100 / 1130 ]| Avg Train Loss 0.6415 | Train AUC : 0.9092 | lr : 1e-05\n",
      "train loop ended, now val\n"
     ]
    },
    {
     "name": "stderr",
     "output_type": "stream",
     "text": [
      "/home/qdy4zt/.local/lib/python3.11/site-packages/torch/utils/data/dataloader.py:624: UserWarning: This DataLoader will create 11 worker processes in total. Our suggested max number of worker in current system is 4, which is smaller than what this DataLoader is going to create. Please be aware that excessive worker creation might get DataLoader running slow or even freeze, lower the worker number to avoid potential slowness/freeze if necessary.\n",
      "  warnings.warn(\n"
     ]
    },
    {
     "name": "stdout",
     "output_type": "stream",
     "text": [
      "[Epoch: 7 / 50 | Batch : 10 / 120 ]| Avg Val Loss 0.2016 | Val AUC : 0.5 | lr : 1e-05\n",
      "[Epoch: 7 / 50 | Batch : 20 / 120 ]| Avg Val Loss 0.1355 | Val AUC : 0.5 | lr : 1e-05\n",
      "[Epoch: 7 / 50 | Batch : 30 / 120 ]| Avg Val Loss 0.1108 | Val AUC : 0.5 | lr : 1e-05\n",
      "[Epoch: 7 / 50 | Batch : 40 / 120 ]| Avg Val Loss 0.1287 | Val AUC : 0.5 | lr : 1e-05\n",
      "[Epoch: 7 / 50 | Batch : 50 / 120 ]| Avg Val Loss 0.2129 | Val AUC : 0.9622 | lr : 1e-05\n",
      "[Epoch: 7 / 50 | Batch : 60 / 120 ]| Avg Val Loss 0.3467 | Val AUC : 0.9184 | lr : 1e-05\n",
      "[Epoch: 7 / 50 | Batch : 70 / 120 ]| Avg Val Loss 0.3992 | Val AUC : 0.9318 | lr : 1e-05\n",
      "[Epoch: 7 / 50 | Batch : 80 / 120 ]| Avg Val Loss 0.4012 | Val AUC : 0.9447 | lr : 1e-05\n",
      "[Epoch: 7 / 50 | Batch : 90 / 120 ]| Avg Val Loss 0.4835 | Val AUC : 0.9377 | lr : 1e-05\n",
      "[Epoch: 7 / 50 | Batch : 100 / 120 ]| Avg Val Loss 0.4599 | Val AUC : 0.9404 | lr : 1e-05\n",
      "[Epoch: 7 / 50 | Batch : 110 / 120 ]| Avg Val Loss 0.4412 | Val AUC : 0.9435 | lr : 1e-05\n",
      "train loss : 0.6362 | train auc 0.9103 | val loss 0.4454 | val auc 0.9447 | elapsed time 210.09464383125305 s\n",
      "------------------------------\n",
      "Started Training\n"
     ]
    },
    {
     "name": "stderr",
     "output_type": "stream",
     "text": [
      "/home/qdy4zt/.local/lib/python3.11/site-packages/torch/utils/data/dataloader.py:624: UserWarning: This DataLoader will create 11 worker processes in total. Our suggested max number of worker in current system is 4, which is smaller than what this DataLoader is going to create. Please be aware that excessive worker creation might get DataLoader running slow or even freeze, lower the worker number to avoid potential slowness/freeze if necessary.\n",
      "  warnings.warn(\n"
     ]
    },
    {
     "name": "stdout",
     "output_type": "stream",
     "text": [
      "[Epoch: 8 / 50 | Batch : 100 / 1130 ]| Avg Train Loss 0.7675 | Train AUC : 0.8824 | lr : 1e-05\n",
      "[Epoch: 8 / 50 | Batch : 200 / 1130 ]| Avg Train Loss 0.7224 | Train AUC : 0.8907 | lr : 1e-05\n",
      "[Epoch: 8 / 50 | Batch : 300 / 1130 ]| Avg Train Loss 0.6706 | Train AUC : 0.9036 | lr : 1e-05\n",
      "[Epoch: 8 / 50 | Batch : 400 / 1130 ]| Avg Train Loss 0.6225 | Train AUC : 0.9185 | lr : 1e-05\n",
      "[Epoch: 8 / 50 | Batch : 500 / 1130 ]| Avg Train Loss 0.6587 | Train AUC : 0.9107 | lr : 1e-05\n",
      "[Epoch: 8 / 50 | Batch : 600 / 1130 ]| Avg Train Loss 0.6424 | Train AUC : 0.9141 | lr : 1e-05\n",
      "[Epoch: 8 / 50 | Batch : 700 / 1130 ]| Avg Train Loss 0.6411 | Train AUC : 0.9134 | lr : 1e-05\n",
      "[Epoch: 8 / 50 | Batch : 800 / 1130 ]| Avg Train Loss 0.6198 | Train AUC : 0.9195 | lr : 1e-05\n",
      "[Epoch: 8 / 50 | Batch : 900 / 1130 ]| Avg Train Loss 0.6049 | Train AUC : 0.9243 | lr : 1e-05\n",
      "[Epoch: 8 / 50 | Batch : 1000 / 1130 ]| Avg Train Loss 0.614 | Train AUC : 0.919 | lr : 1e-05\n",
      "[Epoch: 8 / 50 | Batch : 1100 / 1130 ]| Avg Train Loss 0.6086 | Train AUC : 0.9191 | lr : 1e-05\n",
      "train loop ended, now val\n"
     ]
    },
    {
     "name": "stderr",
     "output_type": "stream",
     "text": [
      "/home/qdy4zt/.local/lib/python3.11/site-packages/torch/utils/data/dataloader.py:624: UserWarning: This DataLoader will create 11 worker processes in total. Our suggested max number of worker in current system is 4, which is smaller than what this DataLoader is going to create. Please be aware that excessive worker creation might get DataLoader running slow or even freeze, lower the worker number to avoid potential slowness/freeze if necessary.\n",
      "  warnings.warn(\n"
     ]
    },
    {
     "name": "stdout",
     "output_type": "stream",
     "text": [
      "[Epoch: 8 / 50 | Batch : 10 / 120 ]| Avg Val Loss 0.206 | Val AUC : 0.5 | lr : 1e-05\n",
      "[Epoch: 8 / 50 | Batch : 20 / 120 ]| Avg Val Loss 0.1353 | Val AUC : 0.5 | lr : 1e-05\n",
      "[Epoch: 8 / 50 | Batch : 30 / 120 ]| Avg Val Loss 0.1063 | Val AUC : 0.5 | lr : 1e-05\n",
      "[Epoch: 8 / 50 | Batch : 40 / 120 ]| Avg Val Loss 0.133 | Val AUC : 0.5 | lr : 1e-05\n",
      "[Epoch: 8 / 50 | Batch : 50 / 120 ]| Avg Val Loss 0.207 | Val AUC : 0.9593 | lr : 1e-05\n",
      "[Epoch: 8 / 50 | Batch : 60 / 120 ]| Avg Val Loss 0.3403 | Val AUC : 0.9305 | lr : 1e-05\n",
      "[Epoch: 8 / 50 | Batch : 70 / 120 ]| Avg Val Loss 0.3837 | Val AUC : 0.9394 | lr : 1e-05\n",
      "[Epoch: 8 / 50 | Batch : 80 / 120 ]| Avg Val Loss 0.3868 | Val AUC : 0.9496 | lr : 1e-05\n",
      "[Epoch: 8 / 50 | Batch : 90 / 120 ]| Avg Val Loss 0.4728 | Val AUC : 0.9435 | lr : 1e-05\n",
      "[Epoch: 8 / 50 | Batch : 100 / 120 ]| Avg Val Loss 0.4508 | Val AUC : 0.9431 | lr : 1e-05\n",
      "[Epoch: 8 / 50 | Batch : 110 / 120 ]| Avg Val Loss 0.4331 | Val AUC : 0.9474 | lr : 1e-05\n",
      "train loss : 0.608 | train auc 0.9187 | val loss 0.4422 | val auc 0.9481 | elapsed time 210.9987394809723 s\n",
      "------------------------------\n",
      "Started Training\n"
     ]
    },
    {
     "name": "stderr",
     "output_type": "stream",
     "text": [
      "/home/qdy4zt/.local/lib/python3.11/site-packages/torch/utils/data/dataloader.py:624: UserWarning: This DataLoader will create 11 worker processes in total. Our suggested max number of worker in current system is 4, which is smaller than what this DataLoader is going to create. Please be aware that excessive worker creation might get DataLoader running slow or even freeze, lower the worker number to avoid potential slowness/freeze if necessary.\n",
      "  warnings.warn(\n"
     ]
    },
    {
     "name": "stdout",
     "output_type": "stream",
     "text": [
      "[Epoch: 9 / 50 | Batch : 100 / 1130 ]| Avg Train Loss 0.5888 | Train AUC : 0.9184 | lr : 1e-05\n",
      "[Epoch: 9 / 50 | Batch : 200 / 1130 ]| Avg Train Loss 0.5695 | Train AUC : 0.9232 | lr : 1e-05\n",
      "[Epoch: 9 / 50 | Batch : 300 / 1130 ]| Avg Train Loss 0.5069 | Train AUC : 0.9397 | lr : 1e-05\n",
      "[Epoch: 9 / 50 | Batch : 400 / 1130 ]| Avg Train Loss 0.5123 | Train AUC : 0.9408 | lr : 1e-05\n",
      "[Epoch: 9 / 50 | Batch : 500 / 1130 ]| Avg Train Loss 0.4935 | Train AUC : 0.9426 | lr : 1e-05\n",
      "[Epoch: 9 / 50 | Batch : 600 / 1130 ]| Avg Train Loss 0.5331 | Train AUC : 0.9314 | lr : 1e-05\n",
      "[Epoch: 9 / 50 | Batch : 700 / 1130 ]| Avg Train Loss 0.533 | Train AUC : 0.9322 | lr : 1e-05\n",
      "[Epoch: 9 / 50 | Batch : 800 / 1130 ]| Avg Train Loss 0.5388 | Train AUC : 0.9328 | lr : 1e-05\n",
      "[Epoch: 9 / 50 | Batch : 900 / 1130 ]| Avg Train Loss 0.5412 | Train AUC : 0.9328 | lr : 1e-05\n",
      "[Epoch: 9 / 50 | Batch : 1000 / 1130 ]| Avg Train Loss 0.5595 | Train AUC : 0.9281 | lr : 1e-05\n",
      "[Epoch: 9 / 50 | Batch : 1100 / 1130 ]| Avg Train Loss 0.5749 | Train AUC : 0.9248 | lr : 1e-05\n",
      "train loop ended, now val\n"
     ]
    },
    {
     "name": "stderr",
     "output_type": "stream",
     "text": [
      "/home/qdy4zt/.local/lib/python3.11/site-packages/torch/utils/data/dataloader.py:624: UserWarning: This DataLoader will create 11 worker processes in total. Our suggested max number of worker in current system is 4, which is smaller than what this DataLoader is going to create. Please be aware that excessive worker creation might get DataLoader running slow or even freeze, lower the worker number to avoid potential slowness/freeze if necessary.\n",
      "  warnings.warn(\n"
     ]
    },
    {
     "name": "stdout",
     "output_type": "stream",
     "text": [
      "[Epoch: 9 / 50 | Batch : 10 / 120 ]| Avg Val Loss 0.4016 | Val AUC : 0.5 | lr : 1e-05\n",
      "[Epoch: 9 / 50 | Batch : 20 / 120 ]| Avg Val Loss 0.2719 | Val AUC : 0.5 | lr : 1e-05\n",
      "[Epoch: 9 / 50 | Batch : 30 / 120 ]| Avg Val Loss 0.2344 | Val AUC : 0.5 | lr : 1e-05\n",
      "[Epoch: 9 / 50 | Batch : 40 / 120 ]| Avg Val Loss 0.2896 | Val AUC : 0.5 | lr : 1e-05\n",
      "[Epoch: 9 / 50 | Batch : 50 / 120 ]| Avg Val Loss 0.2851 | Val AUC : 0.9738 | lr : 1e-05\n",
      "[Epoch: 9 / 50 | Batch : 60 / 120 ]| Avg Val Loss 0.3125 | Val AUC : 0.9599 | lr : 1e-05\n",
      "[Epoch: 9 / 50 | Batch : 70 / 120 ]| Avg Val Loss 0.306 | Val AUC : 0.9621 | lr : 1e-05\n",
      "[Epoch: 9 / 50 | Batch : 80 / 120 ]| Avg Val Loss 0.2818 | Val AUC : 0.9693 | lr : 1e-05\n",
      "[Epoch: 9 / 50 | Batch : 90 / 120 ]| Avg Val Loss 0.3004 | Val AUC : 0.9643 | lr : 1e-05\n",
      "[Epoch: 9 / 50 | Batch : 100 / 120 ]| Avg Val Loss 0.3119 | Val AUC : 0.9592 | lr : 1e-05\n",
      "[Epoch: 9 / 50 | Batch : 110 / 120 ]| Avg Val Loss 0.3147 | Val AUC : 0.9595 | lr : 1e-05\n",
      "train loss : 0.5768 | train auc 0.9257 | val loss 0.3063 | val auc 0.963 | elapsed time 214.3254976272583 s\n",
      "------------------------------\n",
      "Started Training\n"
     ]
    },
    {
     "name": "stderr",
     "output_type": "stream",
     "text": [
      "/home/qdy4zt/.local/lib/python3.11/site-packages/torch/utils/data/dataloader.py:624: UserWarning: This DataLoader will create 11 worker processes in total. Our suggested max number of worker in current system is 4, which is smaller than what this DataLoader is going to create. Please be aware that excessive worker creation might get DataLoader running slow or even freeze, lower the worker number to avoid potential slowness/freeze if necessary.\n",
      "  warnings.warn(\n"
     ]
    },
    {
     "name": "stdout",
     "output_type": "stream",
     "text": [
      "[Epoch: 10 / 50 | Batch : 100 / 1130 ]| Avg Train Loss 0.512 | Train AUC : 0.9357 | lr : 1e-05\n",
      "[Epoch: 10 / 50 | Batch : 200 / 1130 ]| Avg Train Loss 0.5077 | Train AUC : 0.9487 | lr : 1e-05\n",
      "[Epoch: 10 / 50 | Batch : 300 / 1130 ]| Avg Train Loss 0.5542 | Train AUC : 0.9297 | lr : 1e-05\n",
      "[Epoch: 10 / 50 | Batch : 400 / 1130 ]| Avg Train Loss 0.5497 | Train AUC : 0.9307 | lr : 1e-05\n",
      "[Epoch: 10 / 50 | Batch : 500 / 1130 ]| Avg Train Loss 0.5695 | Train AUC : 0.9273 | lr : 1e-05\n",
      "[Epoch: 10 / 50 | Batch : 600 / 1130 ]| Avg Train Loss 0.5523 | Train AUC : 0.934 | lr : 1e-05\n",
      "[Epoch: 10 / 50 | Batch : 700 / 1130 ]| Avg Train Loss 0.5332 | Train AUC : 0.9382 | lr : 1e-05\n",
      "[Epoch: 10 / 50 | Batch : 800 / 1130 ]| Avg Train Loss 0.5089 | Train AUC : 0.943 | lr : 1e-05\n",
      "[Epoch: 10 / 50 | Batch : 900 / 1130 ]| Avg Train Loss 0.5159 | Train AUC : 0.9426 | lr : 1e-05\n",
      "[Epoch: 10 / 50 | Batch : 1000 / 1130 ]| Avg Train Loss 0.5373 | Train AUC : 0.9388 | lr : 1e-05\n",
      "[Epoch: 10 / 50 | Batch : 1100 / 1130 ]| Avg Train Loss 0.5528 | Train AUC : 0.9336 | lr : 1e-05\n",
      "train loop ended, now val\n"
     ]
    },
    {
     "name": "stderr",
     "output_type": "stream",
     "text": [
      "/home/qdy4zt/.local/lib/python3.11/site-packages/torch/utils/data/dataloader.py:624: UserWarning: This DataLoader will create 11 worker processes in total. Our suggested max number of worker in current system is 4, which is smaller than what this DataLoader is going to create. Please be aware that excessive worker creation might get DataLoader running slow or even freeze, lower the worker number to avoid potential slowness/freeze if necessary.\n",
      "  warnings.warn(\n"
     ]
    },
    {
     "name": "stdout",
     "output_type": "stream",
     "text": [
      "[Epoch: 10 / 50 | Batch : 10 / 120 ]| Avg Val Loss 0.2011 | Val AUC : 0.5 | lr : 1e-05\n",
      "[Epoch: 10 / 50 | Batch : 20 / 120 ]| Avg Val Loss 0.1291 | Val AUC : 0.5 | lr : 1e-05\n",
      "[Epoch: 10 / 50 | Batch : 30 / 120 ]| Avg Val Loss 0.1054 | Val AUC : 0.5 | lr : 1e-05\n",
      "[Epoch: 10 / 50 | Batch : 40 / 120 ]| Avg Val Loss 0.1334 | Val AUC : 0.5 | lr : 1e-05\n",
      "[Epoch: 10 / 50 | Batch : 50 / 120 ]| Avg Val Loss 0.1989 | Val AUC : 0.968 | lr : 1e-05\n",
      "[Epoch: 10 / 50 | Batch : 60 / 120 ]| Avg Val Loss 0.3047 | Val AUC : 0.9505 | lr : 1e-05\n",
      "[Epoch: 10 / 50 | Batch : 70 / 120 ]| Avg Val Loss 0.3456 | Val AUC : 0.9554 | lr : 1e-05\n",
      "[Epoch: 10 / 50 | Batch : 80 / 120 ]| Avg Val Loss 0.3449 | Val AUC : 0.9625 | lr : 1e-05\n",
      "[Epoch: 10 / 50 | Batch : 90 / 120 ]| Avg Val Loss 0.4181 | Val AUC : 0.956 | lr : 1e-05\n",
      "[Epoch: 10 / 50 | Batch : 100 / 120 ]| Avg Val Loss 0.4041 | Val AUC : 0.9541 | lr : 1e-05\n",
      "[Epoch: 10 / 50 | Batch : 110 / 120 ]| Avg Val Loss 0.3881 | Val AUC : 0.9572 | lr : 1e-05\n",
      "train loss : 0.5449 | train auc 0.9357 | val loss 0.382 | val auc 0.9602 | elapsed time 212.2257297039032 s\n",
      "------------------------------\n",
      "Started Training\n"
     ]
    },
    {
     "name": "stderr",
     "output_type": "stream",
     "text": [
      "/home/qdy4zt/.local/lib/python3.11/site-packages/torch/utils/data/dataloader.py:624: UserWarning: This DataLoader will create 11 worker processes in total. Our suggested max number of worker in current system is 4, which is smaller than what this DataLoader is going to create. Please be aware that excessive worker creation might get DataLoader running slow or even freeze, lower the worker number to avoid potential slowness/freeze if necessary.\n",
      "  warnings.warn(\n"
     ]
    },
    {
     "name": "stdout",
     "output_type": "stream",
     "text": [
      "[Epoch: 11 / 50 | Batch : 100 / 1130 ]| Avg Train Loss 0.5003 | Train AUC : 0.9574 | lr : 1e-05\n",
      "[Epoch: 11 / 50 | Batch : 200 / 1130 ]| Avg Train Loss 0.4779 | Train AUC : 0.9568 | lr : 1e-05\n",
      "[Epoch: 11 / 50 | Batch : 300 / 1130 ]| Avg Train Loss 0.4897 | Train AUC : 0.9536 | lr : 1e-05\n",
      "[Epoch: 11 / 50 | Batch : 400 / 1130 ]| Avg Train Loss 0.508 | Train AUC : 0.949 | lr : 1e-05\n",
      "[Epoch: 11 / 50 | Batch : 500 / 1130 ]| Avg Train Loss 0.4919 | Train AUC : 0.9498 | lr : 1e-05\n",
      "[Epoch: 11 / 50 | Batch : 600 / 1130 ]| Avg Train Loss 0.4995 | Train AUC : 0.946 | lr : 1e-05\n",
      "[Epoch: 11 / 50 | Batch : 700 / 1130 ]| Avg Train Loss 0.4919 | Train AUC : 0.9474 | lr : 1e-05\n",
      "[Epoch: 11 / 50 | Batch : 800 / 1130 ]| Avg Train Loss 0.505 | Train AUC : 0.9446 | lr : 1e-05\n",
      "[Epoch: 11 / 50 | Batch : 900 / 1130 ]| Avg Train Loss 0.5148 | Train AUC : 0.9422 | lr : 1e-05\n",
      "[Epoch: 11 / 50 | Batch : 1000 / 1130 ]| Avg Train Loss 0.5156 | Train AUC : 0.9424 | lr : 1e-05\n",
      "[Epoch: 11 / 50 | Batch : 1100 / 1130 ]| Avg Train Loss 0.5147 | Train AUC : 0.9418 | lr : 1e-05\n",
      "train loop ended, now val\n"
     ]
    },
    {
     "name": "stderr",
     "output_type": "stream",
     "text": [
      "/home/qdy4zt/.local/lib/python3.11/site-packages/torch/utils/data/dataloader.py:624: UserWarning: This DataLoader will create 11 worker processes in total. Our suggested max number of worker in current system is 4, which is smaller than what this DataLoader is going to create. Please be aware that excessive worker creation might get DataLoader running slow or even freeze, lower the worker number to avoid potential slowness/freeze if necessary.\n",
      "  warnings.warn(\n"
     ]
    },
    {
     "name": "stdout",
     "output_type": "stream",
     "text": [
      "[Epoch: 11 / 50 | Batch : 10 / 120 ]| Avg Val Loss 0.3044 | Val AUC : 0.5 | lr : 1e-05\n",
      "[Epoch: 11 / 50 | Batch : 20 / 120 ]| Avg Val Loss 0.198 | Val AUC : 0.5 | lr : 1e-05\n",
      "[Epoch: 11 / 50 | Batch : 30 / 120 ]| Avg Val Loss 0.164 | Val AUC : 0.5 | lr : 1e-05\n",
      "[Epoch: 11 / 50 | Batch : 40 / 120 ]| Avg Val Loss 0.1935 | Val AUC : 0.5 | lr : 1e-05\n",
      "[Epoch: 11 / 50 | Batch : 50 / 120 ]| Avg Val Loss 0.225 | Val AUC : 0.968 | lr : 1e-05\n",
      "[Epoch: 11 / 50 | Batch : 60 / 120 ]| Avg Val Loss 0.3043 | Val AUC : 0.9385 | lr : 1e-05\n",
      "[Epoch: 11 / 50 | Batch : 70 / 120 ]| Avg Val Loss 0.3075 | Val AUC : 0.9512 | lr : 1e-05\n",
      "[Epoch: 11 / 50 | Batch : 80 / 120 ]| Avg Val Loss 0.2915 | Val AUC : 0.9607 | lr : 1e-05\n",
      "[Epoch: 11 / 50 | Batch : 90 / 120 ]| Avg Val Loss 0.3398 | Val AUC : 0.9541 | lr : 1e-05\n",
      "[Epoch: 11 / 50 | Batch : 100 / 120 ]| Avg Val Loss 0.331 | Val AUC : 0.9541 | lr : 1e-05\n",
      "[Epoch: 11 / 50 | Batch : 110 / 120 ]| Avg Val Loss 0.324 | Val AUC : 0.9556 | lr : 1e-05\n",
      "train loss : 0.5166 | train auc 0.9417 | val loss 0.3154 | val auc 0.9582 | elapsed time 210.07583141326904 s\n",
      "------------------------------\n",
      "Started Training\n"
     ]
    },
    {
     "name": "stderr",
     "output_type": "stream",
     "text": [
      "/home/qdy4zt/.local/lib/python3.11/site-packages/torch/utils/data/dataloader.py:624: UserWarning: This DataLoader will create 11 worker processes in total. Our suggested max number of worker in current system is 4, which is smaller than what this DataLoader is going to create. Please be aware that excessive worker creation might get DataLoader running slow or even freeze, lower the worker number to avoid potential slowness/freeze if necessary.\n",
      "  warnings.warn(\n"
     ]
    },
    {
     "name": "stdout",
     "output_type": "stream",
     "text": [
      "[Epoch: 12 / 50 | Batch : 100 / 1130 ]| Avg Train Loss 0.5619 | Train AUC : 0.9448 | lr : 1e-05\n",
      "[Epoch: 12 / 50 | Batch : 200 / 1130 ]| Avg Train Loss 0.5301 | Train AUC : 0.9485 | lr : 1e-05\n",
      "[Epoch: 12 / 50 | Batch : 300 / 1130 ]| Avg Train Loss 0.5169 | Train AUC : 0.9511 | lr : 1e-05\n",
      "[Epoch: 12 / 50 | Batch : 400 / 1130 ]| Avg Train Loss 0.4612 | Train AUC : 0.9589 | lr : 1e-05\n",
      "[Epoch: 12 / 50 | Batch : 500 / 1130 ]| Avg Train Loss 0.4454 | Train AUC : 0.9625 | lr : 1e-05\n",
      "[Epoch: 12 / 50 | Batch : 600 / 1130 ]| Avg Train Loss 0.4323 | Train AUC : 0.9628 | lr : 1e-05\n",
      "[Epoch: 12 / 50 | Batch : 700 / 1130 ]| Avg Train Loss 0.4288 | Train AUC : 0.9604 | lr : 1e-05\n",
      "[Epoch: 12 / 50 | Batch : 800 / 1130 ]| Avg Train Loss 0.4431 | Train AUC : 0.9583 | lr : 1e-05\n",
      "[Epoch: 12 / 50 | Batch : 900 / 1130 ]| Avg Train Loss 0.4466 | Train AUC : 0.9588 | lr : 1e-05\n",
      "[Epoch: 12 / 50 | Batch : 1000 / 1130 ]| Avg Train Loss 0.4582 | Train AUC : 0.9569 | lr : 1e-05\n",
      "[Epoch: 12 / 50 | Batch : 1100 / 1130 ]| Avg Train Loss 0.4511 | Train AUC : 0.9583 | lr : 1e-05\n",
      "train loop ended, now val\n"
     ]
    },
    {
     "name": "stderr",
     "output_type": "stream",
     "text": [
      "/home/qdy4zt/.local/lib/python3.11/site-packages/torch/utils/data/dataloader.py:624: UserWarning: This DataLoader will create 11 worker processes in total. Our suggested max number of worker in current system is 4, which is smaller than what this DataLoader is going to create. Please be aware that excessive worker creation might get DataLoader running slow or even freeze, lower the worker number to avoid potential slowness/freeze if necessary.\n",
      "  warnings.warn(\n"
     ]
    },
    {
     "name": "stdout",
     "output_type": "stream",
     "text": [
      "[Epoch: 12 / 50 | Batch : 10 / 120 ]| Avg Val Loss 0.1262 | Val AUC : 0.5 | lr : 1e-05\n",
      "[Epoch: 12 / 50 | Batch : 20 / 120 ]| Avg Val Loss 0.0783 | Val AUC : 0.5 | lr : 1e-05\n",
      "[Epoch: 12 / 50 | Batch : 30 / 120 ]| Avg Val Loss 0.0616 | Val AUC : 0.5 | lr : 1e-05\n",
      "[Epoch: 12 / 50 | Batch : 40 / 120 ]| Avg Val Loss 0.0826 | Val AUC : 0.5 | lr : 1e-05\n",
      "[Epoch: 12 / 50 | Batch : 50 / 120 ]| Avg Val Loss 0.1915 | Val AUC : 0.9651 | lr : 1e-05\n",
      "[Epoch: 12 / 50 | Batch : 60 / 120 ]| Avg Val Loss 0.3504 | Val AUC : 0.9452 | lr : 1e-05\n",
      "[Epoch: 12 / 50 | Batch : 70 / 120 ]| Avg Val Loss 0.3999 | Val AUC : 0.9537 | lr : 1e-05\n",
      "[Epoch: 12 / 50 | Batch : 80 / 120 ]| Avg Val Loss 0.3969 | Val AUC : 0.9619 | lr : 1e-05\n",
      "[Epoch: 12 / 50 | Batch : 90 / 120 ]| Avg Val Loss 0.492 | Val AUC : 0.958 | lr : 1e-05\n",
      "[Epoch: 12 / 50 | Batch : 100 / 120 ]| Avg Val Loss 0.4671 | Val AUC : 0.958 | lr : 1e-05\n",
      "[Epoch: 12 / 50 | Batch : 110 / 120 ]| Avg Val Loss 0.4468 | Val AUC : 0.9598 | lr : 1e-05\n",
      "train loss : 0.4503 | train auc 0.9587 | val loss 0.4405 | val auc 0.963 | elapsed time 210.01030731201172 s\n",
      "------------------------------\n",
      "Started Training\n"
     ]
    },
    {
     "name": "stderr",
     "output_type": "stream",
     "text": [
      "/home/qdy4zt/.local/lib/python3.11/site-packages/torch/utils/data/dataloader.py:624: UserWarning: This DataLoader will create 11 worker processes in total. Our suggested max number of worker in current system is 4, which is smaller than what this DataLoader is going to create. Please be aware that excessive worker creation might get DataLoader running slow or even freeze, lower the worker number to avoid potential slowness/freeze if necessary.\n",
      "  warnings.warn(\n"
     ]
    },
    {
     "name": "stdout",
     "output_type": "stream",
     "text": [
      "[Epoch: 13 / 50 | Batch : 100 / 1130 ]| Avg Train Loss 0.5064 | Train AUC : 0.9582 | lr : 1e-05\n",
      "[Epoch: 13 / 50 | Batch : 200 / 1130 ]| Avg Train Loss 0.5064 | Train AUC : 0.9571 | lr : 1e-05\n",
      "[Epoch: 13 / 50 | Batch : 300 / 1130 ]| Avg Train Loss 0.4575 | Train AUC : 0.962 | lr : 1e-05\n",
      "[Epoch: 13 / 50 | Batch : 400 / 1130 ]| Avg Train Loss 0.4602 | Train AUC : 0.9599 | lr : 1e-05\n",
      "[Epoch: 13 / 50 | Batch : 500 / 1130 ]| Avg Train Loss 0.4631 | Train AUC : 0.957 | lr : 1e-05\n",
      "[Epoch: 13 / 50 | Batch : 600 / 1130 ]| Avg Train Loss 0.4417 | Train AUC : 0.9596 | lr : 1e-05\n",
      "[Epoch: 13 / 50 | Batch : 700 / 1130 ]| Avg Train Loss 0.4204 | Train AUC : 0.9633 | lr : 1e-05\n",
      "[Epoch: 13 / 50 | Batch : 800 / 1130 ]| Avg Train Loss 0.4198 | Train AUC : 0.9637 | lr : 1e-05\n",
      "[Epoch: 13 / 50 | Batch : 900 / 1130 ]| Avg Train Loss 0.4242 | Train AUC : 0.962 | lr : 1e-05\n",
      "[Epoch: 13 / 50 | Batch : 1000 / 1130 ]| Avg Train Loss 0.4573 | Train AUC : 0.9538 | lr : 1e-05\n",
      "[Epoch: 13 / 50 | Batch : 1100 / 1130 ]| Avg Train Loss 0.4633 | Train AUC : 0.9531 | lr : 1e-05\n",
      "train loop ended, now val\n"
     ]
    },
    {
     "name": "stderr",
     "output_type": "stream",
     "text": [
      "/home/qdy4zt/.local/lib/python3.11/site-packages/torch/utils/data/dataloader.py:624: UserWarning: This DataLoader will create 11 worker processes in total. Our suggested max number of worker in current system is 4, which is smaller than what this DataLoader is going to create. Please be aware that excessive worker creation might get DataLoader running slow or even freeze, lower the worker number to avoid potential slowness/freeze if necessary.\n",
      "  warnings.warn(\n"
     ]
    },
    {
     "name": "stdout",
     "output_type": "stream",
     "text": [
      "[Epoch: 13 / 50 | Batch : 10 / 120 ]| Avg Val Loss 0.2261 | Val AUC : 0.5 | lr : 1e-05\n",
      "[Epoch: 13 / 50 | Batch : 20 / 120 ]| Avg Val Loss 0.1514 | Val AUC : 0.5 | lr : 1e-05\n",
      "[Epoch: 13 / 50 | Batch : 30 / 120 ]| Avg Val Loss 0.1256 | Val AUC : 0.5 | lr : 1e-05\n",
      "[Epoch: 13 / 50 | Batch : 40 / 120 ]| Avg Val Loss 0.1566 | Val AUC : 0.5 | lr : 1e-05\n",
      "[Epoch: 13 / 50 | Batch : 50 / 120 ]| Avg Val Loss 0.2085 | Val AUC : 0.968 | lr : 1e-05\n",
      "[Epoch: 13 / 50 | Batch : 60 / 120 ]| Avg Val Loss 0.2826 | Val AUC : 0.9532 | lr : 1e-05\n",
      "[Epoch: 13 / 50 | Batch : 70 / 120 ]| Avg Val Loss 0.3073 | Val AUC : 0.9596 | lr : 1e-05\n",
      "[Epoch: 13 / 50 | Batch : 80 / 120 ]| Avg Val Loss 0.2951 | Val AUC : 0.9668 | lr : 1e-05\n",
      "[Epoch: 13 / 50 | Batch : 90 / 120 ]| Avg Val Loss 0.3465 | Val AUC : 0.9638 | lr : 1e-05\n",
      "[Epoch: 13 / 50 | Batch : 100 / 120 ]| Avg Val Loss 0.3393 | Val AUC : 0.9608 | lr : 1e-05\n",
      "[Epoch: 13 / 50 | Batch : 110 / 120 ]| Avg Val Loss 0.329 | Val AUC : 0.9621 | lr : 1e-05\n",
      "train loss : 0.4573 | train auc 0.9546 | val loss 0.3173 | val auc 0.966 | elapsed time 209.72892785072327 s\n",
      "------------------------------\n",
      "Started Training\n"
     ]
    },
    {
     "name": "stderr",
     "output_type": "stream",
     "text": [
      "/home/qdy4zt/.local/lib/python3.11/site-packages/torch/utils/data/dataloader.py:624: UserWarning: This DataLoader will create 11 worker processes in total. Our suggested max number of worker in current system is 4, which is smaller than what this DataLoader is going to create. Please be aware that excessive worker creation might get DataLoader running slow or even freeze, lower the worker number to avoid potential slowness/freeze if necessary.\n",
      "  warnings.warn(\n"
     ]
    },
    {
     "name": "stdout",
     "output_type": "stream",
     "text": [
      "[Epoch: 14 / 50 | Batch : 100 / 1130 ]| Avg Train Loss 0.3551 | Train AUC : 0.9813 | lr : 3e-06\n",
      "[Epoch: 14 / 50 | Batch : 200 / 1130 ]| Avg Train Loss 0.3373 | Train AUC : 0.9794 | lr : 3e-06\n",
      "[Epoch: 14 / 50 | Batch : 300 / 1130 ]| Avg Train Loss 0.3555 | Train AUC : 0.9755 | lr : 3e-06\n",
      "[Epoch: 14 / 50 | Batch : 400 / 1130 ]| Avg Train Loss 0.4026 | Train AUC : 0.9673 | lr : 3e-06\n",
      "[Epoch: 14 / 50 | Batch : 500 / 1130 ]| Avg Train Loss 0.3997 | Train AUC : 0.9679 | lr : 3e-06\n",
      "[Epoch: 14 / 50 | Batch : 600 / 1130 ]| Avg Train Loss 0.4025 | Train AUC : 0.9687 | lr : 3e-06\n",
      "[Epoch: 14 / 50 | Batch : 700 / 1130 ]| Avg Train Loss 0.3983 | Train AUC : 0.9722 | lr : 3e-06\n",
      "[Epoch: 14 / 50 | Batch : 800 / 1130 ]| Avg Train Loss 0.3826 | Train AUC : 0.9743 | lr : 3e-06\n",
      "[Epoch: 14 / 50 | Batch : 900 / 1130 ]| Avg Train Loss 0.3794 | Train AUC : 0.9753 | lr : 3e-06\n",
      "[Epoch: 14 / 50 | Batch : 1000 / 1130 ]| Avg Train Loss 0.3733 | Train AUC : 0.9761 | lr : 3e-06\n",
      "[Epoch: 14 / 50 | Batch : 1100 / 1130 ]| Avg Train Loss 0.3713 | Train AUC : 0.9764 | lr : 3e-06\n",
      "train loop ended, now val\n"
     ]
    },
    {
     "name": "stderr",
     "output_type": "stream",
     "text": [
      "/home/qdy4zt/.local/lib/python3.11/site-packages/torch/utils/data/dataloader.py:624: UserWarning: This DataLoader will create 11 worker processes in total. Our suggested max number of worker in current system is 4, which is smaller than what this DataLoader is going to create. Please be aware that excessive worker creation might get DataLoader running slow or even freeze, lower the worker number to avoid potential slowness/freeze if necessary.\n",
      "  warnings.warn(\n"
     ]
    },
    {
     "name": "stdout",
     "output_type": "stream",
     "text": [
      "[Epoch: 14 / 50 | Batch : 10 / 120 ]| Avg Val Loss 0.3109 | Val AUC : 0.5 | lr : 3e-06\n",
      "[Epoch: 14 / 50 | Batch : 20 / 120 ]| Avg Val Loss 0.194 | Val AUC : 0.5 | lr : 3e-06\n",
      "[Epoch: 14 / 50 | Batch : 30 / 120 ]| Avg Val Loss 0.153 | Val AUC : 0.5 | lr : 3e-06\n",
      "[Epoch: 14 / 50 | Batch : 40 / 120 ]| Avg Val Loss 0.199 | Val AUC : 0.5 | lr : 3e-06\n",
      "[Epoch: 14 / 50 | Batch : 50 / 120 ]| Avg Val Loss 0.2103 | Val AUC : 0.9767 | lr : 3e-06\n",
      "[Epoch: 14 / 50 | Batch : 60 / 120 ]| Avg Val Loss 0.2664 | Val AUC : 0.9626 | lr : 3e-06\n",
      "[Epoch: 14 / 50 | Batch : 70 / 120 ]| Avg Val Loss 0.273 | Val AUC : 0.9655 | lr : 3e-06\n",
      "[Epoch: 14 / 50 | Batch : 80 / 120 ]| Avg Val Loss 0.2532 | Val AUC : 0.9711 | lr : 3e-06\n",
      "[Epoch: 14 / 50 | Batch : 90 / 120 ]| Avg Val Loss 0.2976 | Val AUC : 0.9667 | lr : 3e-06\n",
      "[Epoch: 14 / 50 | Batch : 100 / 120 ]| Avg Val Loss 0.2967 | Val AUC : 0.9635 | lr : 3e-06\n",
      "[Epoch: 14 / 50 | Batch : 110 / 120 ]| Avg Val Loss 0.2936 | Val AUC : 0.9634 | lr : 3e-06\n",
      "train loss : 0.371 | train auc 0.9766 | val loss 0.2817 | val auc 0.9663 | elapsed time 209.5614538192749 s\n",
      "------------------------------\n",
      "Started Training\n"
     ]
    },
    {
     "name": "stderr",
     "output_type": "stream",
     "text": [
      "/home/qdy4zt/.local/lib/python3.11/site-packages/torch/utils/data/dataloader.py:624: UserWarning: This DataLoader will create 11 worker processes in total. Our suggested max number of worker in current system is 4, which is smaller than what this DataLoader is going to create. Please be aware that excessive worker creation might get DataLoader running slow or even freeze, lower the worker number to avoid potential slowness/freeze if necessary.\n",
      "  warnings.warn(\n"
     ]
    },
    {
     "name": "stdout",
     "output_type": "stream",
     "text": [
      "[Epoch: 15 / 50 | Batch : 100 / 1130 ]| Avg Train Loss 0.342 | Train AUC : 0.9775 | lr : 3e-06\n",
      "[Epoch: 15 / 50 | Batch : 200 / 1130 ]| Avg Train Loss 0.3562 | Train AUC : 0.9751 | lr : 3e-06\n",
      "[Epoch: 15 / 50 | Batch : 300 / 1130 ]| Avg Train Loss 0.3534 | Train AUC : 0.9744 | lr : 3e-06\n",
      "[Epoch: 15 / 50 | Batch : 400 / 1130 ]| Avg Train Loss 0.363 | Train AUC : 0.9731 | lr : 3e-06\n",
      "[Epoch: 15 / 50 | Batch : 500 / 1130 ]| Avg Train Loss 0.3656 | Train AUC : 0.974 | lr : 3e-06\n",
      "[Epoch: 15 / 50 | Batch : 600 / 1130 ]| Avg Train Loss 0.3573 | Train AUC : 0.9771 | lr : 3e-06\n",
      "[Epoch: 15 / 50 | Batch : 700 / 1130 ]| Avg Train Loss 0.3594 | Train AUC : 0.9762 | lr : 3e-06\n",
      "[Epoch: 15 / 50 | Batch : 800 / 1130 ]| Avg Train Loss 0.3538 | Train AUC : 0.977 | lr : 3e-06\n",
      "[Epoch: 15 / 50 | Batch : 900 / 1130 ]| Avg Train Loss 0.3516 | Train AUC : 0.9792 | lr : 3e-06\n",
      "[Epoch: 15 / 50 | Batch : 1000 / 1130 ]| Avg Train Loss 0.3526 | Train AUC : 0.9788 | lr : 3e-06\n",
      "[Epoch: 15 / 50 | Batch : 1100 / 1130 ]| Avg Train Loss 0.3497 | Train AUC : 0.9792 | lr : 3e-06\n",
      "train loop ended, now val\n"
     ]
    },
    {
     "name": "stderr",
     "output_type": "stream",
     "text": [
      "/home/qdy4zt/.local/lib/python3.11/site-packages/torch/utils/data/dataloader.py:624: UserWarning: This DataLoader will create 11 worker processes in total. Our suggested max number of worker in current system is 4, which is smaller than what this DataLoader is going to create. Please be aware that excessive worker creation might get DataLoader running slow or even freeze, lower the worker number to avoid potential slowness/freeze if necessary.\n",
      "  warnings.warn(\n"
     ]
    },
    {
     "name": "stdout",
     "output_type": "stream",
     "text": [
      "[Epoch: 15 / 50 | Batch : 10 / 120 ]| Avg Val Loss 0.2192 | Val AUC : 0.5 | lr : 3e-06\n",
      "[Epoch: 15 / 50 | Batch : 20 / 120 ]| Avg Val Loss 0.1325 | Val AUC : 0.5 | lr : 3e-06\n",
      "[Epoch: 15 / 50 | Batch : 30 / 120 ]| Avg Val Loss 0.1016 | Val AUC : 0.5 | lr : 3e-06\n",
      "[Epoch: 15 / 50 | Batch : 40 / 120 ]| Avg Val Loss 0.1378 | Val AUC : 0.5 | lr : 3e-06\n",
      "[Epoch: 15 / 50 | Batch : 50 / 120 ]| Avg Val Loss 0.1803 | Val AUC : 0.9767 | lr : 3e-06\n",
      "[Epoch: 15 / 50 | Batch : 60 / 120 ]| Avg Val Loss 0.2676 | Val AUC : 0.9586 | lr : 3e-06\n",
      "[Epoch: 15 / 50 | Batch : 70 / 120 ]| Avg Val Loss 0.2919 | Val AUC : 0.9646 | lr : 3e-06\n",
      "[Epoch: 15 / 50 | Batch : 80 / 120 ]| Avg Val Loss 0.2757 | Val AUC : 0.9711 | lr : 3e-06\n",
      "[Epoch: 15 / 50 | Batch : 90 / 120 ]| Avg Val Loss 0.3423 | Val AUC : 0.9662 | lr : 3e-06\n",
      "[Epoch: 15 / 50 | Batch : 100 / 120 ]| Avg Val Loss 0.3285 | Val AUC : 0.9651 | lr : 3e-06\n",
      "[Epoch: 15 / 50 | Batch : 110 / 120 ]| Avg Val Loss 0.3224 | Val AUC : 0.965 | lr : 3e-06\n",
      "train loss : 0.3468 | train auc 0.9797 | val loss 0.3085 | val auc 0.9683 | elapsed time 209.7360394001007 s\n",
      "------------------------------\n",
      "Started Training\n"
     ]
    },
    {
     "name": "stderr",
     "output_type": "stream",
     "text": [
      "/home/qdy4zt/.local/lib/python3.11/site-packages/torch/utils/data/dataloader.py:624: UserWarning: This DataLoader will create 11 worker processes in total. Our suggested max number of worker in current system is 4, which is smaller than what this DataLoader is going to create. Please be aware that excessive worker creation might get DataLoader running slow or even freeze, lower the worker number to avoid potential slowness/freeze if necessary.\n",
      "  warnings.warn(\n"
     ]
    },
    {
     "name": "stdout",
     "output_type": "stream",
     "text": [
      "[Epoch: 16 / 50 | Batch : 100 / 1130 ]| Avg Train Loss 0.2965 | Train AUC : 0.977 | lr : 3e-06\n",
      "[Epoch: 16 / 50 | Batch : 200 / 1130 ]| Avg Train Loss 0.2842 | Train AUC : 0.9855 | lr : 3e-06\n",
      "[Epoch: 16 / 50 | Batch : 300 / 1130 ]| Avg Train Loss 0.2677 | Train AUC : 0.9879 | lr : 3e-06\n",
      "[Epoch: 16 / 50 | Batch : 400 / 1130 ]| Avg Train Loss 0.2879 | Train AUC : 0.986 | lr : 3e-06\n",
      "[Epoch: 16 / 50 | Batch : 500 / 1130 ]| Avg Train Loss 0.2892 | Train AUC : 0.987 | lr : 3e-06\n",
      "[Epoch: 16 / 50 | Batch : 600 / 1130 ]| Avg Train Loss 0.3035 | Train AUC : 0.9829 | lr : 3e-06\n",
      "[Epoch: 16 / 50 | Batch : 700 / 1130 ]| Avg Train Loss 0.3144 | Train AUC : 0.9809 | lr : 3e-06\n",
      "[Epoch: 16 / 50 | Batch : 800 / 1130 ]| Avg Train Loss 0.3052 | Train AUC : 0.9829 | lr : 3e-06\n",
      "[Epoch: 16 / 50 | Batch : 900 / 1130 ]| Avg Train Loss 0.3245 | Train AUC : 0.9808 | lr : 3e-06\n",
      "[Epoch: 16 / 50 | Batch : 1000 / 1130 ]| Avg Train Loss 0.3333 | Train AUC : 0.9797 | lr : 3e-06\n",
      "[Epoch: 16 / 50 | Batch : 1100 / 1130 ]| Avg Train Loss 0.3308 | Train AUC : 0.9803 | lr : 3e-06\n",
      "train loop ended, now val\n"
     ]
    },
    {
     "name": "stderr",
     "output_type": "stream",
     "text": [
      "/home/qdy4zt/.local/lib/python3.11/site-packages/torch/utils/data/dataloader.py:624: UserWarning: This DataLoader will create 11 worker processes in total. Our suggested max number of worker in current system is 4, which is smaller than what this DataLoader is going to create. Please be aware that excessive worker creation might get DataLoader running slow or even freeze, lower the worker number to avoid potential slowness/freeze if necessary.\n",
      "  warnings.warn(\n"
     ]
    },
    {
     "name": "stdout",
     "output_type": "stream",
     "text": [
      "[Epoch: 16 / 50 | Batch : 10 / 120 ]| Avg Val Loss 0.2654 | Val AUC : 0.5 | lr : 3e-06\n",
      "[Epoch: 16 / 50 | Batch : 20 / 120 ]| Avg Val Loss 0.159 | Val AUC : 0.5 | lr : 3e-06\n",
      "[Epoch: 16 / 50 | Batch : 30 / 120 ]| Avg Val Loss 0.1209 | Val AUC : 0.5 | lr : 3e-06\n",
      "[Epoch: 16 / 50 | Batch : 40 / 120 ]| Avg Val Loss 0.1548 | Val AUC : 0.5 | lr : 3e-06\n",
      "[Epoch: 16 / 50 | Batch : 50 / 120 ]| Avg Val Loss 0.1875 | Val AUC : 0.9767 | lr : 3e-06\n",
      "[Epoch: 16 / 50 | Batch : 60 / 120 ]| Avg Val Loss 0.2586 | Val AUC : 0.9586 | lr : 3e-06\n",
      "[Epoch: 16 / 50 | Batch : 70 / 120 ]| Avg Val Loss 0.2822 | Val AUC : 0.9638 | lr : 3e-06\n",
      "[Epoch: 16 / 50 | Batch : 80 / 120 ]| Avg Val Loss 0.2632 | Val AUC : 0.9711 | lr : 3e-06\n",
      "[Epoch: 16 / 50 | Batch : 90 / 120 ]| Avg Val Loss 0.3245 | Val AUC : 0.9662 | lr : 3e-06\n",
      "[Epoch: 16 / 50 | Batch : 100 / 120 ]| Avg Val Loss 0.3136 | Val AUC : 0.9639 | lr : 3e-06\n",
      "[Epoch: 16 / 50 | Batch : 110 / 120 ]| Avg Val Loss 0.3079 | Val AUC : 0.9641 | lr : 3e-06\n",
      "train loss : 0.3302 | train auc 0.9805 | val loss 0.2929 | val auc 0.9672 | elapsed time 209.71412992477417 s\n",
      "------------------------------\n",
      "Started Training\n"
     ]
    },
    {
     "name": "stderr",
     "output_type": "stream",
     "text": [
      "/home/qdy4zt/.local/lib/python3.11/site-packages/torch/utils/data/dataloader.py:624: UserWarning: This DataLoader will create 11 worker processes in total. Our suggested max number of worker in current system is 4, which is smaller than what this DataLoader is going to create. Please be aware that excessive worker creation might get DataLoader running slow or even freeze, lower the worker number to avoid potential slowness/freeze if necessary.\n",
      "  warnings.warn(\n"
     ]
    },
    {
     "name": "stdout",
     "output_type": "stream",
     "text": [
      "[Epoch: 17 / 50 | Batch : 100 / 1130 ]| Avg Train Loss 0.2968 | Train AUC : 0.986 | lr : 3e-06\n",
      "[Epoch: 17 / 50 | Batch : 200 / 1130 ]| Avg Train Loss 0.3012 | Train AUC : 0.9821 | lr : 3e-06\n",
      "[Epoch: 17 / 50 | Batch : 300 / 1130 ]| Avg Train Loss 0.3081 | Train AUC : 0.9797 | lr : 3e-06\n",
      "[Epoch: 17 / 50 | Batch : 400 / 1130 ]| Avg Train Loss 0.3097 | Train AUC : 0.9819 | lr : 3e-06\n",
      "[Epoch: 17 / 50 | Batch : 500 / 1130 ]| Avg Train Loss 0.3218 | Train AUC : 0.9799 | lr : 3e-06\n",
      "[Epoch: 17 / 50 | Batch : 600 / 1130 ]| Avg Train Loss 0.3232 | Train AUC : 0.9796 | lr : 3e-06\n",
      "[Epoch: 17 / 50 | Batch : 700 / 1130 ]| Avg Train Loss 0.333 | Train AUC : 0.9788 | lr : 3e-06\n",
      "[Epoch: 17 / 50 | Batch : 800 / 1130 ]| Avg Train Loss 0.336 | Train AUC : 0.9785 | lr : 3e-06\n",
      "[Epoch: 17 / 50 | Batch : 900 / 1130 ]| Avg Train Loss 0.3333 | Train AUC : 0.9796 | lr : 3e-06\n",
      "[Epoch: 17 / 50 | Batch : 1000 / 1130 ]| Avg Train Loss 0.3288 | Train AUC : 0.9798 | lr : 3e-06\n",
      "[Epoch: 17 / 50 | Batch : 1100 / 1130 ]| Avg Train Loss 0.3265 | Train AUC : 0.981 | lr : 3e-06\n",
      "train loop ended, now val\n"
     ]
    },
    {
     "name": "stderr",
     "output_type": "stream",
     "text": [
      "/home/qdy4zt/.local/lib/python3.11/site-packages/torch/utils/data/dataloader.py:624: UserWarning: This DataLoader will create 11 worker processes in total. Our suggested max number of worker in current system is 4, which is smaller than what this DataLoader is going to create. Please be aware that excessive worker creation might get DataLoader running slow or even freeze, lower the worker number to avoid potential slowness/freeze if necessary.\n",
      "  warnings.warn(\n"
     ]
    },
    {
     "name": "stdout",
     "output_type": "stream",
     "text": [
      "[Epoch: 17 / 50 | Batch : 10 / 120 ]| Avg Val Loss 0.2111 | Val AUC : 0.5 | lr : 3e-06\n",
      "[Epoch: 17 / 50 | Batch : 20 / 120 ]| Avg Val Loss 0.1278 | Val AUC : 0.5 | lr : 3e-06\n",
      "[Epoch: 17 / 50 | Batch : 30 / 120 ]| Avg Val Loss 0.0978 | Val AUC : 0.5 | lr : 3e-06\n",
      "[Epoch: 17 / 50 | Batch : 40 / 120 ]| Avg Val Loss 0.1322 | Val AUC : 0.5 | lr : 3e-06\n",
      "[Epoch: 17 / 50 | Batch : 50 / 120 ]| Avg Val Loss 0.1756 | Val AUC : 0.9738 | lr : 3e-06\n",
      "[Epoch: 17 / 50 | Batch : 60 / 120 ]| Avg Val Loss 0.2659 | Val AUC : 0.9626 | lr : 3e-06\n",
      "[Epoch: 17 / 50 | Batch : 70 / 120 ]| Avg Val Loss 0.2909 | Val AUC : 0.9672 | lr : 3e-06\n",
      "[Epoch: 17 / 50 | Batch : 80 / 120 ]| Avg Val Loss 0.2726 | Val AUC : 0.9736 | lr : 3e-06\n",
      "[Epoch: 17 / 50 | Batch : 90 / 120 ]| Avg Val Loss 0.3411 | Val AUC : 0.9681 | lr : 3e-06\n",
      "[Epoch: 17 / 50 | Batch : 100 / 120 ]| Avg Val Loss 0.3291 | Val AUC : 0.9659 | lr : 3e-06\n",
      "[Epoch: 17 / 50 | Batch : 110 / 120 ]| Avg Val Loss 0.32 | Val AUC : 0.966 | lr : 3e-06\n",
      "train loss : 0.3219 | train auc 0.9817 | val loss 0.3046 | val auc 0.9694 | elapsed time 209.7861363887787 s\n",
      "------------------------------\n",
      "Started Training\n"
     ]
    },
    {
     "name": "stderr",
     "output_type": "stream",
     "text": [
      "/home/qdy4zt/.local/lib/python3.11/site-packages/torch/utils/data/dataloader.py:624: UserWarning: This DataLoader will create 11 worker processes in total. Our suggested max number of worker in current system is 4, which is smaller than what this DataLoader is going to create. Please be aware that excessive worker creation might get DataLoader running slow or even freeze, lower the worker number to avoid potential slowness/freeze if necessary.\n",
      "  warnings.warn(\n"
     ]
    },
    {
     "name": "stdout",
     "output_type": "stream",
     "text": [
      "[Epoch: 18 / 50 | Batch : 100 / 1130 ]| Avg Train Loss 0.325 | Train AUC : 0.9894 | lr : 3e-06\n",
      "[Epoch: 18 / 50 | Batch : 200 / 1130 ]| Avg Train Loss 0.3377 | Train AUC : 0.9849 | lr : 3e-06\n",
      "[Epoch: 18 / 50 | Batch : 300 / 1130 ]| Avg Train Loss 0.3084 | Train AUC : 0.9856 | lr : 3e-06\n",
      "[Epoch: 18 / 50 | Batch : 400 / 1130 ]| Avg Train Loss 0.2938 | Train AUC : 0.9861 | lr : 3e-06\n",
      "[Epoch: 18 / 50 | Batch : 500 / 1130 ]| Avg Train Loss 0.298 | Train AUC : 0.9847 | lr : 3e-06\n",
      "[Epoch: 18 / 50 | Batch : 600 / 1130 ]| Avg Train Loss 0.2943 | Train AUC : 0.9853 | lr : 3e-06\n",
      "[Epoch: 18 / 50 | Batch : 700 / 1130 ]| Avg Train Loss 0.3077 | Train AUC : 0.9839 | lr : 3e-06\n",
      "[Epoch: 18 / 50 | Batch : 800 / 1130 ]| Avg Train Loss 0.3182 | Train AUC : 0.982 | lr : 3e-06\n",
      "[Epoch: 18 / 50 | Batch : 900 / 1130 ]| Avg Train Loss 0.3155 | Train AUC : 0.9818 | lr : 3e-06\n",
      "[Epoch: 18 / 50 | Batch : 1000 / 1130 ]| Avg Train Loss 0.3294 | Train AUC : 0.9802 | lr : 3e-06\n",
      "[Epoch: 18 / 50 | Batch : 1100 / 1130 ]| Avg Train Loss 0.3356 | Train AUC : 0.9794 | lr : 3e-06\n",
      "train loop ended, now val\n"
     ]
    },
    {
     "name": "stderr",
     "output_type": "stream",
     "text": [
      "/home/qdy4zt/.local/lib/python3.11/site-packages/torch/utils/data/dataloader.py:624: UserWarning: This DataLoader will create 11 worker processes in total. Our suggested max number of worker in current system is 4, which is smaller than what this DataLoader is going to create. Please be aware that excessive worker creation might get DataLoader running slow or even freeze, lower the worker number to avoid potential slowness/freeze if necessary.\n",
      "  warnings.warn(\n"
     ]
    },
    {
     "name": "stdout",
     "output_type": "stream",
     "text": [
      "[Epoch: 18 / 50 | Batch : 10 / 120 ]| Avg Val Loss 0.1128 | Val AUC : 0.5 | lr : 3e-06\n",
      "[Epoch: 18 / 50 | Batch : 20 / 120 ]| Avg Val Loss 0.0686 | Val AUC : 0.5 | lr : 3e-06\n",
      "[Epoch: 18 / 50 | Batch : 30 / 120 ]| Avg Val Loss 0.0522 | Val AUC : 0.5 | lr : 3e-06\n",
      "[Epoch: 18 / 50 | Batch : 40 / 120 ]| Avg Val Loss 0.0827 | Val AUC : 0.5 | lr : 3e-06\n",
      "[Epoch: 18 / 50 | Batch : 50 / 120 ]| Avg Val Loss 0.1735 | Val AUC : 0.9738 | lr : 3e-06\n",
      "[Epoch: 18 / 50 | Batch : 60 / 120 ]| Avg Val Loss 0.2966 | Val AUC : 0.9639 | lr : 3e-06\n",
      "[Epoch: 18 / 50 | Batch : 70 / 120 ]| Avg Val Loss 0.3437 | Val AUC : 0.968 | lr : 3e-06\n",
      "[Epoch: 18 / 50 | Batch : 80 / 120 ]| Avg Val Loss 0.331 | Val AUC : 0.9748 | lr : 3e-06\n",
      "[Epoch: 18 / 50 | Batch : 90 / 120 ]| Avg Val Loss 0.438 | Val AUC : 0.9686 | lr : 3e-06\n",
      "[Epoch: 18 / 50 | Batch : 100 / 120 ]| Avg Val Loss 0.4203 | Val AUC : 0.9647 | lr : 3e-06\n",
      "[Epoch: 18 / 50 | Batch : 110 / 120 ]| Avg Val Loss 0.4048 | Val AUC : 0.9654 | lr : 3e-06\n",
      "train loss : 0.3333 | train auc 0.9797 | val loss 0.3879 | val auc 0.9694 | elapsed time 209.77181482315063 s\n",
      "------------------------------\n",
      "Started Training\n"
     ]
    },
    {
     "name": "stderr",
     "output_type": "stream",
     "text": [
      "/home/qdy4zt/.local/lib/python3.11/site-packages/torch/utils/data/dataloader.py:624: UserWarning: This DataLoader will create 11 worker processes in total. Our suggested max number of worker in current system is 4, which is smaller than what this DataLoader is going to create. Please be aware that excessive worker creation might get DataLoader running slow or even freeze, lower the worker number to avoid potential slowness/freeze if necessary.\n",
      "  warnings.warn(\n"
     ]
    },
    {
     "name": "stdout",
     "output_type": "stream",
     "text": [
      "[Epoch: 19 / 50 | Batch : 100 / 1130 ]| Avg Train Loss 0.3045 | Train AUC : 0.9944 | lr : 9e-07\n",
      "[Epoch: 19 / 50 | Batch : 200 / 1130 ]| Avg Train Loss 0.3072 | Train AUC : 0.9895 | lr : 9e-07\n",
      "[Epoch: 19 / 50 | Batch : 300 / 1130 ]| Avg Train Loss 0.2891 | Train AUC : 0.989 | lr : 9e-07\n",
      "[Epoch: 19 / 50 | Batch : 400 / 1130 ]| Avg Train Loss 0.2864 | Train AUC : 0.9886 | lr : 9e-07\n",
      "[Epoch: 19 / 50 | Batch : 500 / 1130 ]| Avg Train Loss 0.2772 | Train AUC : 0.9889 | lr : 9e-07\n",
      "[Epoch: 19 / 50 | Batch : 600 / 1130 ]| Avg Train Loss 0.2811 | Train AUC : 0.9875 | lr : 9e-07\n",
      "[Epoch: 19 / 50 | Batch : 700 / 1130 ]| Avg Train Loss 0.2777 | Train AUC : 0.9887 | lr : 9e-07\n",
      "[Epoch: 19 / 50 | Batch : 800 / 1130 ]| Avg Train Loss 0.2789 | Train AUC : 0.9883 | lr : 9e-07\n",
      "[Epoch: 19 / 50 | Batch : 900 / 1130 ]| Avg Train Loss 0.2927 | Train AUC : 0.9861 | lr : 9e-07\n",
      "[Epoch: 19 / 50 | Batch : 1000 / 1130 ]| Avg Train Loss 0.2957 | Train AUC : 0.9859 | lr : 9e-07\n",
      "[Epoch: 19 / 50 | Batch : 1100 / 1130 ]| Avg Train Loss 0.2953 | Train AUC : 0.9856 | lr : 9e-07\n",
      "train loop ended, now val\n"
     ]
    },
    {
     "name": "stderr",
     "output_type": "stream",
     "text": [
      "/home/qdy4zt/.local/lib/python3.11/site-packages/torch/utils/data/dataloader.py:624: UserWarning: This DataLoader will create 11 worker processes in total. Our suggested max number of worker in current system is 4, which is smaller than what this DataLoader is going to create. Please be aware that excessive worker creation might get DataLoader running slow or even freeze, lower the worker number to avoid potential slowness/freeze if necessary.\n",
      "  warnings.warn(\n"
     ]
    },
    {
     "name": "stdout",
     "output_type": "stream",
     "text": [
      "[Epoch: 19 / 50 | Batch : 10 / 120 ]| Avg Val Loss 0.2045 | Val AUC : 0.5 | lr : 9e-07\n",
      "[Epoch: 19 / 50 | Batch : 20 / 120 ]| Avg Val Loss 0.1238 | Val AUC : 0.5 | lr : 9e-07\n",
      "[Epoch: 19 / 50 | Batch : 30 / 120 ]| Avg Val Loss 0.0938 | Val AUC : 0.5 | lr : 9e-07\n",
      "[Epoch: 19 / 50 | Batch : 40 / 120 ]| Avg Val Loss 0.1327 | Val AUC : 0.5 | lr : 9e-07\n",
      "[Epoch: 19 / 50 | Batch : 50 / 120 ]| Avg Val Loss 0.178 | Val AUC : 0.9738 | lr : 9e-07\n",
      "[Epoch: 19 / 50 | Batch : 60 / 120 ]| Avg Val Loss 0.2602 | Val AUC : 0.9652 | lr : 9e-07\n",
      "[Epoch: 19 / 50 | Batch : 70 / 120 ]| Avg Val Loss 0.2825 | Val AUC : 0.9689 | lr : 9e-07\n",
      "[Epoch: 19 / 50 | Batch : 80 / 120 ]| Avg Val Loss 0.2648 | Val AUC : 0.9748 | lr : 9e-07\n",
      "[Epoch: 19 / 50 | Batch : 90 / 120 ]| Avg Val Loss 0.339 | Val AUC : 0.9691 | lr : 9e-07\n",
      "[Epoch: 19 / 50 | Batch : 100 / 120 ]| Avg Val Loss 0.3289 | Val AUC : 0.9651 | lr : 9e-07\n",
      "[Epoch: 19 / 50 | Batch : 110 / 120 ]| Avg Val Loss 0.3211 | Val AUC : 0.965 | lr : 9e-07\n",
      "train loss : 0.2978 | train auc 0.9853 | val loss 0.3055 | val auc 0.9689 | elapsed time 210.4107837677002 s\n",
      "------------------------------\n",
      "Started Training\n"
     ]
    },
    {
     "name": "stderr",
     "output_type": "stream",
     "text": [
      "/home/qdy4zt/.local/lib/python3.11/site-packages/torch/utils/data/dataloader.py:624: UserWarning: This DataLoader will create 11 worker processes in total. Our suggested max number of worker in current system is 4, which is smaller than what this DataLoader is going to create. Please be aware that excessive worker creation might get DataLoader running slow or even freeze, lower the worker number to avoid potential slowness/freeze if necessary.\n",
      "  warnings.warn(\n"
     ]
    },
    {
     "name": "stdout",
     "output_type": "stream",
     "text": [
      "[Epoch: 20 / 50 | Batch : 100 / 1130 ]| Avg Train Loss 0.2965 | Train AUC : 0.9874 | lr : 9e-07\n",
      "[Epoch: 20 / 50 | Batch : 200 / 1130 ]| Avg Train Loss 0.2605 | Train AUC : 0.9915 | lr : 9e-07\n",
      "[Epoch: 20 / 50 | Batch : 300 / 1130 ]| Avg Train Loss 0.2579 | Train AUC : 0.9928 | lr : 9e-07\n",
      "[Epoch: 20 / 50 | Batch : 400 / 1130 ]| Avg Train Loss 0.2638 | Train AUC : 0.9921 | lr : 9e-07\n",
      "[Epoch: 20 / 50 | Batch : 500 / 1130 ]| Avg Train Loss 0.2953 | Train AUC : 0.9881 | lr : 9e-07\n",
      "[Epoch: 20 / 50 | Batch : 600 / 1130 ]| Avg Train Loss 0.2943 | Train AUC : 0.9877 | lr : 9e-07\n",
      "[Epoch: 20 / 50 | Batch : 700 / 1130 ]| Avg Train Loss 0.2872 | Train AUC : 0.9879 | lr : 9e-07\n",
      "[Epoch: 20 / 50 | Batch : 800 / 1130 ]| Avg Train Loss 0.2866 | Train AUC : 0.9877 | lr : 9e-07\n",
      "[Epoch: 20 / 50 | Batch : 900 / 1130 ]| Avg Train Loss 0.2743 | Train AUC : 0.9889 | lr : 9e-07\n",
      "[Epoch: 20 / 50 | Batch : 1000 / 1130 ]| Avg Train Loss 0.2726 | Train AUC : 0.9895 | lr : 9e-07\n"
     ]
    }
   ],
   "source": [
    "print('Training Configuration')\n",
    "print(config)\n",
    "\n",
    "train(config=config)\n",
    "\n",
    "print('Training Ended...')"
   ]
  },
  {
   "cell_type": "code",
   "execution_count": null,
   "id": "8eef1589-8889-470c-8d31-8537b3c3ba03",
   "metadata": {},
   "outputs": [],
   "source": []
  }
 ],
 "metadata": {
  "kernelspec": {
   "display_name": "Python 3 (ipykernel)",
   "language": "python",
   "name": "python3"
  },
  "language_info": {
   "codemirror_mode": {
    "name": "ipython",
    "version": 3
   },
   "file_extension": ".py",
   "mimetype": "text/x-python",
   "name": "python",
   "nbconvert_exporter": "python",
   "pygments_lexer": "ipython3",
   "version": "3.11.4"
  }
 },
 "nbformat": 4,
 "nbformat_minor": 5
}
