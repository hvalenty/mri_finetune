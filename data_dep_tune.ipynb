{
 "cells": [
  {
   "cell_type": "code",
   "execution_count": 2,
   "id": "dcdddfb9-026f-4216-a38a-207ced915743",
   "metadata": {
    "tags": []
   },
   "outputs": [
    {
     "name": "stdout",
     "output_type": "stream",
     "text": [
      "--2025-04-20 14:18:45--  https://drive.google.com/file/d/12ahl5I8Yq_9O357x72iLOoBEqyB8t7e4/view?usp=sharing\n",
      "Resolving drive.google.com (drive.google.com)... 142.251.167.100, 142.251.167.113, 142.251.167.138, ...\n",
      "Connecting to drive.google.com (drive.google.com)|142.251.167.100|:443... connected.\n",
      "HTTP request sent, awaiting response... 401 Unauthorized\n",
      "\n",
      "Username/Password Authentication Failed.\n"
     ]
    }
   ],
   "source": [
    "# Install tune files need to get correct link\n",
    "!wget https://drive.google.com/file/d/12ahl5I8Yq_9O357x72iLOoBEqyB8t7e4/view?usp=sharing"
   ]
  },
  {
   "cell_type": "code",
   "execution_count": null,
   "id": "f06dba29-7a38-41c6-8487-b4f9f19a12ba",
   "metadata": {},
   "outputs": [],
   "source": [
    "!tar -xvzf your_file.tar.gz"
   ]
  }
 ],
 "metadata": {
  "kernelspec": {
   "display_name": "Python 3 (ipykernel)",
   "language": "python",
   "name": "python3"
  },
  "language_info": {
   "codemirror_mode": {
    "name": "ipython",
    "version": 3
   },
   "file_extension": ".py",
   "mimetype": "text/x-python",
   "name": "python",
   "nbconvert_exporter": "python",
   "pygments_lexer": "ipython3",
   "version": "3.11.4"
  }
 },
 "nbformat": 4,
 "nbformat_minor": 5
}
